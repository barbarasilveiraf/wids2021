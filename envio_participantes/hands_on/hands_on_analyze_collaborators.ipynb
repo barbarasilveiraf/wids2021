{
 "cells": [
  {
   "cell_type": "code",
   "execution_count": null,
   "metadata": {
    "colab": {
     "base_uri": "https://localhost:8080/",
     "height": 333
    },
    "id": "P-gLiEsSJYQB",
    "outputId": "a7c3ccb6-039f-4da1-9c5d-6567404516e1"
   },
   "outputs": [],
   "source": [
    "#Download dataset\n",
    "!wget -O 'HR-Employee-Attrition.csv' 'https://docs.google.com/uc?export=download&id=1KuesGYYqJ3DdPq1gvMc5Sbs2KcvYXYeE'"
   ]
  },
  {
   "cell_type": "code",
   "execution_count": null,
   "metadata": {
    "colab": {
     "base_uri": "https://localhost:8080/",
     "height": 577
    },
    "id": "yhMIBA19JaAT",
    "outputId": "83a738be-c3d4-4e22-957f-988298dbcb53"
   },
   "outputs": [],
   "source": [
    "#Pacotes a serem instalados\n",
    "!pip install -r requirements.txt\n",
    "!pip install pandas==1.2.5\n",
    "!pip install pandas_profiling==2.11.0\n",
    "!pip install matplotlib==3.3.4\n",
    "!pip install pycaret==2.3.1\n",
    "!pip install numpy==1.19.5\n",
    "!pip install seaborn==0.11.1\n",
    "!pip install scikit_learn==0.23.2\n",
    "\n",
    "#depois de instalar esses pacotes, reinicie o kernel.\n",
    "    #no jupyer notebook -> Kernel > Restart\n",
    "    #no colab -> Runtime > Runtime Restart"
   ]
  },
  {
   "cell_type": "code",
   "execution_count": null,
   "metadata": {
    "id": "1CtXmkxhJRkN"
   },
   "outputs": [],
   "source": [
    "import pandas as pd\n",
    "import seaborn as sns\n",
    "import matplotlib.pyplot as plt  \n",
    "from sklearn.decomposition import PCA\n",
    "import numpy as np\n",
    "import warnings\n",
    "warnings.filterwarnings('ignore')\n",
    "\n",
    "sns.set_style(\"whitegrid\")\n",
    "%matplotlib inline"
   ]
  },
  {
   "cell_type": "markdown",
   "metadata": {
    "id": "B7cQkNQhJRkY"
   },
   "source": [
    "# Leitura dos Dados"
   ]
  },
  {
   "cell_type": "code",
   "execution_count": null,
   "metadata": {
    "id": "vk3HKCy4JRka"
   },
   "outputs": [],
   "source": [
    "df = pd.read_csv(\"HR-Employee-Attrition.csv\")"
   ]
  },
  {
   "cell_type": "code",
   "execution_count": null,
   "metadata": {
    "colab": {
     "base_uri": "https://localhost:8080/",
     "height": 316
    },
    "id": "vP7vlUINJRkg",
    "outputId": "773faa14-d27d-414e-dc89-a2d03c2fcc85"
   },
   "outputs": [],
   "source": [
    "df.head()"
   ]
  },
  {
   "cell_type": "code",
   "execution_count": null,
   "metadata": {
    "colab": {
     "base_uri": "https://localhost:8080/",
     "height": 34
    },
    "id": "IQlK107wJRko",
    "outputId": "4a86ce68-6a16-4dcd-a091-f883786008ef"
   },
   "outputs": [],
   "source": [
    "df.shape"
   ]
  },
  {
   "cell_type": "markdown",
   "metadata": {
    "id": "alZZP9h0JRkt"
   },
   "source": [
    "# Conhecendo os dados"
   ]
  },
  {
   "cell_type": "code",
   "execution_count": null,
   "metadata": {
    "colab": {
     "base_uri": "https://localhost:8080/",
     "height": 208
    },
    "id": "X06erQ8zJRku",
    "outputId": "53c6aaf8-ce44-42d9-8ddc-d01c91761624"
   },
   "outputs": [],
   "source": [
    "#Liste as colunas do dado\n"
   ]
  },
  {
   "cell_type": "code",
   "execution_count": null,
   "metadata": {
    "colab": {
     "base_uri": "https://localhost:8080/",
     "height": 644
    },
    "id": "8WAg3jIXJRky",
    "outputId": "fef83fe5-0598-47b8-cd1c-2144f2803c78",
    "scrolled": true
   },
   "outputs": [],
   "source": [
    "#Check valores missing\n"
   ]
  },
  {
   "cell_type": "code",
   "execution_count": null,
   "metadata": {
    "colab": {
     "base_uri": "https://localhost:8080/",
     "height": 644
    },
    "id": "xQuZKmf2JRk7",
    "outputId": "66a63f82-0351-4e15-e720-3923019f959c",
    "scrolled": true
   },
   "outputs": [],
   "source": [
    "#Check tipo das colunas\n"
   ]
  },
  {
   "cell_type": "code",
   "execution_count": null,
   "metadata": {
    "colab": {
     "base_uri": "https://localhost:8080/",
     "height": 644
    },
    "id": "_d_Cssi9JRk_",
    "outputId": "60b0413b-4198-4d01-c16e-366d27b91445",
    "scrolled": true
   },
   "outputs": [],
   "source": [
    "#Check colunas com apenas 1 valor\n"
   ]
  },
  {
   "cell_type": "code",
   "execution_count": null,
   "metadata": {
    "id": "apLEdmuqJRlD"
   },
   "outputs": [],
   "source": [
    "#drop colunas com apenas 1 tipo de valor\n"
   ]
  },
  {
   "cell_type": "code",
   "execution_count": null,
   "metadata": {
    "colab": {
     "base_uri": "https://localhost:8080/",
     "height": 774
    },
    "id": "a7acGKpNJRlL",
    "outputId": "f3ee08b1-dadd-4479-9435-03346cb20e13",
    "scrolled": true
   },
   "outputs": [],
   "source": [
    "df.describe().T"
   ]
  },
  {
   "cell_type": "markdown",
   "metadata": {},
   "source": [
    "# Análise descritiva"
   ]
  },
  {
   "cell_type": "markdown",
   "metadata": {},
   "source": [
    "Pandas profiling"
   ]
  },
  {
   "cell_type": "code",
   "execution_count": null,
   "metadata": {},
   "outputs": [],
   "source": [
    "from pandas_profiling import ProfileReport"
   ]
  },
  {
   "cell_type": "code",
   "execution_count": null,
   "metadata": {},
   "outputs": [],
   "source": [
    "#Aplique o pandas_profiling no dado carregado "
   ]
  },
  {
   "cell_type": "code",
   "execution_count": null,
   "metadata": {},
   "outputs": [],
   "source": []
  },
  {
   "cell_type": "markdown",
   "metadata": {
    "id": "PJyCBk6_JRlP"
   },
   "source": [
    "# Análise Exploratória"
   ]
  },
  {
   "cell_type": "markdown",
   "metadata": {
    "id": "hj5G-rqDJRlQ"
   },
   "source": [
    "## Pessoas que sairam da empresa\n",
    "\n",
    "são quantas?"
   ]
  },
  {
   "cell_type": "code",
   "execution_count": null,
   "metadata": {},
   "outputs": [],
   "source": []
  },
  {
   "cell_type": "markdown",
   "metadata": {
    "id": "vvBaSdw-JRlY"
   },
   "source": [
    "## E qual a idade delas?"
   ]
  },
  {
   "cell_type": "code",
   "execution_count": null,
   "metadata": {
    "colab": {
     "base_uri": "https://localhost:8080/",
     "height": 300
    },
    "id": "TZ2mJIf1JRlb",
    "outputId": "ba506e18-d819-43ac-a79e-ea3b45c09b57"
   },
   "outputs": [],
   "source": []
  },
  {
   "cell_type": "markdown",
   "metadata": {
    "id": "FvaFHMHlJRlq"
   },
   "source": [
    "## São casadas?"
   ]
  },
  {
   "cell_type": "code",
   "execution_count": null,
   "metadata": {
    "colab": {
     "base_uri": "https://localhost:8080/",
     "height": 307
    },
    "id": "ZRzOa4Hvq9z9",
    "outputId": "cf1c25e5-f48b-4b51-a519-f8bc25811e00"
   },
   "outputs": [],
   "source": []
  },
  {
   "cell_type": "markdown",
   "metadata": {
    "id": "YhZFvRZHJRmB"
   },
   "source": [
    "## Como é o salário dessas pessoas?"
   ]
  },
  {
   "cell_type": "code",
   "execution_count": null,
   "metadata": {
    "colab": {
     "base_uri": "https://localhost:8080/",
     "height": 300
    },
    "id": "8-QXqvpgJRmC",
    "outputId": "e86874ea-0e6b-45f6-b806-09a08e9f2b86"
   },
   "outputs": [],
   "source": []
  },
  {
   "cell_type": "markdown",
   "metadata": {},
   "source": [
    "### Tem diferença por gênero?"
   ]
  },
  {
   "cell_type": "code",
   "execution_count": null,
   "metadata": {
    "colab": {
     "base_uri": "https://localhost:8080/",
     "height": 300
    },
    "id": "6jBvT8CyLM4r",
    "outputId": "a82a760f-a4cb-4b68-ad37-debfeed54f1d"
   },
   "outputs": [],
   "source": []
  },
  {
   "cell_type": "markdown",
   "metadata": {
    "id": "_DOko6_kJRmH"
   },
   "source": [
    "## E a satisfação com o ambiente de trabalho?\n",
    "EnvironmentSatisfaction 1 'Low' 2 'Medium' 3 'High' 4 'Very High'"
   ]
  },
  {
   "cell_type": "code",
   "execution_count": null,
   "metadata": {
    "colab": {
     "base_uri": "https://localhost:8080/",
     "height": 307
    },
    "id": "i2xSi55EsJPA",
    "outputId": "44d089ca-04d4-468d-97d9-bc590632232f"
   },
   "outputs": [],
   "source": []
  },
  {
   "cell_type": "markdown",
   "metadata": {
    "id": "r6tOOyKDM-W0"
   },
   "source": [
    "## E a satisfação com o trabalho?\n",
    "\n",
    "JobSatisfaction 1 'Low' 2 'Medium' 3 'High' 4 'Very High'"
   ]
  },
  {
   "cell_type": "code",
   "execution_count": null,
   "metadata": {
    "colab": {
     "base_uri": "https://localhost:8080/",
     "height": 307
    },
    "id": "9A1NhIdwsPpA",
    "outputId": "e0139b00-0c54-45e5-9a61-357e73701c87"
   },
   "outputs": [],
   "source": []
  },
  {
   "cell_type": "markdown",
   "metadata": {
    "id": "_ojiN-ecJRmP"
   },
   "source": [
    "## Elas trabalhavam na empresa há muito tempo?"
   ]
  },
  {
   "cell_type": "code",
   "execution_count": null,
   "metadata": {
    "colab": {
     "base_uri": "https://localhost:8080/",
     "height": 300
    },
    "id": "VE5wa4LrJRmQ",
    "outputId": "5a76c924-2433-4ea4-c002-bce3320a5a45"
   },
   "outputs": [],
   "source": []
  },
  {
   "cell_type": "markdown",
   "metadata": {
    "id": "LSZx09YmJRmU"
   },
   "source": [
    "## Trabalham além da carga horária?"
   ]
  },
  {
   "cell_type": "code",
   "execution_count": null,
   "metadata": {
    "colab": {
     "base_uri": "https://localhost:8080/",
     "height": 307
    },
    "id": "0NY-pF1QJRmV",
    "outputId": "741e695f-444f-4163-a790-980657d25dd8"
   },
   "outputs": [],
   "source": []
  },
  {
   "cell_type": "markdown",
   "metadata": {
    "id": "2k2UCEHROiby"
   },
   "source": [
    "### Das pessoas que trabalham, além da carga horária. Como é o nível de satisfação com o nível de trabalho delas?"
   ]
  },
  {
   "cell_type": "code",
   "execution_count": null,
   "metadata": {
    "colab": {
     "base_uri": "https://localhost:8080/",
     "height": 307
    },
    "id": "RdJpgZoFvb2o",
    "outputId": "be07bfaa-1e95-4fd3-db5b-ba397c35e4fa"
   },
   "outputs": [],
   "source": []
  },
  {
   "cell_type": "markdown",
   "metadata": {
    "id": "ZHKS6EzrJRmd"
   },
   "source": [
    "## Moravam perto do trabalho?"
   ]
  },
  {
   "cell_type": "code",
   "execution_count": null,
   "metadata": {
    "colab": {
     "base_uri": "https://localhost:8080/",
     "height": 300
    },
    "id": "GXHvF04UJRme",
    "outputId": "710bf8b4-acf0-4685-dd3e-9c4acf2a69d0"
   },
   "outputs": [],
   "source": []
  },
  {
   "cell_type": "markdown",
   "metadata": {
    "id": "N13aA8WeJRmr"
   },
   "source": [
    "## E qual o nível dessas pessoas?"
   ]
  },
  {
   "cell_type": "code",
   "execution_count": null,
   "metadata": {
    "colab": {
     "base_uri": "https://localhost:8080/",
     "height": 307
    },
    "id": "OofTpwKxwATB",
    "outputId": "dfaa1393-54d0-4f70-e2d6-002b2f5278ad"
   },
   "outputs": [],
   "source": []
  },
  {
   "cell_type": "markdown",
   "metadata": {
    "id": "8hnQSmc8JRmy"
   },
   "source": [
    "## E o papel delas?"
   ]
  },
  {
   "cell_type": "code",
   "execution_count": null,
   "metadata": {
    "colab": {
     "base_uri": "https://localhost:8080/",
     "height": 307
    },
    "id": "M5oz4S9_wHgN",
    "outputId": "29dfcfdb-29fa-4999-f1c9-bd05b6b8c8b6"
   },
   "outputs": [],
   "source": []
  },
  {
   "cell_type": "markdown",
   "metadata": {},
   "source": [
    "### Quais papéis tem os maiores salários?"
   ]
  },
  {
   "cell_type": "code",
   "execution_count": null,
   "metadata": {
    "colab": {
     "base_uri": "https://localhost:8080/",
     "height": 411
    },
    "id": "gbz0pQKSJRnA",
    "outputId": "4c905833-1a96-47b9-9025-ab542954e279"
   },
   "outputs": [],
   "source": []
  },
  {
   "cell_type": "markdown",
   "metadata": {
    "id": "tqQq1MuKJRnE"
   },
   "source": [
    "# Seleção de Features e Feature enginering"
   ]
  },
  {
   "cell_type": "markdown",
   "metadata": {
    "id": "JtmZiaEcJRnF"
   },
   "source": [
    "## Análise da correlação das features"
   ]
  },
  {
   "cell_type": "code",
   "execution_count": 1,
   "metadata": {
    "colab": {
     "base_uri": "https://localhost:8080/",
     "height": 749
    },
    "id": "xqDtifvjJRnG",
    "outputId": "bf82bf60-8157-4d51-f8d7-f5deac292cbf"
   },
   "outputs": [],
   "source": [
    "#Gere a correlação das variáveis do seu dataset"
   ]
  },
  {
   "cell_type": "markdown",
   "metadata": {
    "id": "6YYy7TLZJRnT"
   },
   "source": [
    "### Reduzir dimensionalidade\n",
    "\n",
    "Transforme as colunas ``YearsAtCompany``, ``YearsInCurrentRole``, ``YearsSinceLastPromotion``, ``YearsWithCurrManager`` em apenas uma."
   ]
  },
  {
   "cell_type": "code",
   "execution_count": null,
   "metadata": {
    "colab": {
     "base_uri": "https://localhost:8080/",
     "height": 34
    },
    "id": "3gIwPPKmTIJ_",
    "outputId": "0874ddb7-88a3-4e83-926e-d5e908bb8e6b"
   },
   "outputs": [],
   "source": [
    "df.shape"
   ]
  },
  {
   "cell_type": "code",
   "execution_count": null,
   "metadata": {
    "id": "o7cb6YlAJRnU"
   },
   "outputs": [],
   "source": [
    "colunas_reduzir = ['YearsAtCompany', 'YearsInCurrentRole','YearsSinceLastPromotion', 'YearsWithCurrManager']"
   ]
  },
  {
   "cell_type": "code",
   "execution_count": null,
   "metadata": {
    "colab": {
     "base_uri": "https://localhost:8080/",
     "height": 34
    },
    "id": "VNqRBiLWJRnW",
    "outputId": "9155c5dc-4fba-4ede-8e11-927b619f6645"
   },
   "outputs": [],
   "source": []
  },
  {
   "cell_type": "code",
   "execution_count": null,
   "metadata": {
    "colab": {
     "base_uri": "https://localhost:8080/",
     "height": 34
    },
    "id": "-wDc272mJRnY",
    "outputId": "3a00db62-2dd9-4c3e-8fab-51d1df923126"
   },
   "outputs": [],
   "source": [
    "df.shape"
   ]
  },
  {
   "cell_type": "markdown",
   "metadata": {
    "id": "Ba4aR_k1JRnh"
   },
   "source": [
    "## Criar grupos com uma feature\n",
    "\n",
    "Crie grupos com a variável ``Age``\n",
    "\n",
    "- 18-24 = grupo1 , 25-45=grupo2 , >=46 grupo3"
   ]
  },
  {
   "cell_type": "code",
   "execution_count": null,
   "metadata": {
    "colab": {
     "base_uri": "https://localhost:8080/",
     "height": 320
    },
    "id": "v5jL2fUdJRni",
    "outputId": "af708b79-a156-46ea-dd75-214223c48d97"
   },
   "outputs": [],
   "source": [
    "#Agrupar as idades\n",
    "plt.hist(df[\"Age\"])"
   ]
  },
  {
   "cell_type": "code",
   "execution_count": null,
   "metadata": {},
   "outputs": [],
   "source": [
    "#tranformação"
   ]
  },
  {
   "cell_type": "code",
   "execution_count": null,
   "metadata": {
    "id": "uOl3XmjzJRnn"
   },
   "outputs": [],
   "source": []
  },
  {
   "cell_type": "markdown",
   "metadata": {
    "id": "IMG9VCmPJRo7"
   },
   "source": [
    "# Modelo - classificação com pycaret"
   ]
  },
  {
   "cell_type": "markdown",
   "metadata": {},
   "source": [
    "## Pycaret\n",
    "\n",
    "Pycaret é uma biblioteca de Machine Learning (ML) que automatiza fluxos de trabalho. \n",
    "\n",
    "documentação: https://pycaret.org/classification/"
   ]
  },
  {
   "cell_type": "code",
   "execution_count": null,
   "metadata": {},
   "outputs": [],
   "source": [
    "data = df.sample(frac=0.95, random_state=786)\n",
    "data_unseen = df.drop(data.index)\n",
    "data.reset_index(inplace=True, drop=True)\n",
    "data_unseen.reset_index(inplace=True, drop=True)\n",
    "\n",
    "print('Data for Modeling: ' + str(data.shape))\n",
    "print('Unseen Data For Predictions: ' + str(data_unseen.shape))"
   ]
  },
  {
   "cell_type": "code",
   "execution_count": null,
   "metadata": {},
   "outputs": [],
   "source": [
    "from pycaret.classification import *"
   ]
  },
  {
   "cell_type": "markdown",
   "metadata": {},
   "source": [
    "<b>setup:</b> Esta função inicializa o ambiente de treinamento e cria o pipeline de transformação. Ela deve ser chamada antes de executar qualquer outra função. Possui dois parâmetros obrigatórios: ``data`` e ``target``."
   ]
  },
  {
   "cell_type": "code",
   "execution_count": null,
   "metadata": {
    "scrolled": true
   },
   "outputs": [],
   "source": [
    "#configue o setup do pycaret"
   ]
  },
  {
   "cell_type": "markdown",
   "metadata": {},
   "source": [
    "<b> compare_models </b>: Esta função treina e avalia o desempenho de todos os modelos disponíveis na biblioteca de modelos usando validação cruzada (Cross Validation)"
   ]
  },
  {
   "cell_type": "markdown",
   "metadata": {},
   "source": [
    "Explicação Validação Cruzada\n",
    "<img src=\"img/kfold.png\" width=500/>"
   ]
  },
  {
   "cell_type": "code",
   "execution_count": null,
   "metadata": {},
   "outputs": [],
   "source": [
    "#treine o modelo com os seguintes algortimos:\n",
    "#\"lr\",\"knn\",\"nb\",\"dt\",\"svm\",\"rbfsvm\",\"gpc\",\"mlp\",\"ridge\",\"rf\",\"qda\",\"ada\",\"gbc\",\"lda\",\"et\",\"lightgbm\"]\n"
   ]
  },
  {
   "cell_type": "markdown",
   "metadata": {
    "id": "V2mEKChPhjxC"
   },
   "source": [
    "### Qual métrica utilizar?\n",
    "\n",
    "Mini-curso sobre métricas:https://www.youtube.com/watch?v=7tGaa_ekXf4&t=216s&ab_channel=A3DataConsultoria"
   ]
  },
  {
   "cell_type": "markdown",
   "metadata": {
    "id": "rxHsBR_T9gvU"
   },
   "source": [
    "Métricas Qual utilizar?\n",
    "- VP: modelo diz que a pessoa vai sair e ela sai.\n",
    "- VN: modelo diz que a pessoa não vai sair e ela não sai.\n",
    "- FN: modelo diz que a pessoa não vai sair e ela sai. \n",
    "- FP: modelo diz que a pessoa vai sair e ela não sai.\n",
    "- F1 -> harmoniza recall e precision\n",
    "\n",
    "- Recall ->  quanto mais alto o recall menos FN tenho.\n",
    "- Precision -> quanto mais alto a precision menos FP tenho.\n",
    "- Acurácia -> como meu problema é binário e desbalanceado, não será um modelo bom. Pois, na maior parte dos casos ele informa que todo mundo vai sair."
   ]
  },
  {
   "cell_type": "markdown",
   "metadata": {},
   "source": [
    "<b> create_model: </b> Esta função treina e avalia o desempenho de um determinado modelo usando validação cruzada. "
   ]
  },
  {
   "cell_type": "code",
   "execution_count": null,
   "metadata": {},
   "outputs": [],
   "source": [
    "#Crie o modelo com o algoritmo que deu a melhor métrica que você entenda que a melhor para o seu problema."
   ]
  },
  {
   "cell_type": "markdown",
   "metadata": {},
   "source": [
    "<b> tune_model:</b> Essa função ajusta os hiperparâmetros de um determinado modelo. "
   ]
  },
  {
   "cell_type": "code",
   "execution_count": null,
   "metadata": {
    "scrolled": true
   },
   "outputs": [],
   "source": [
    "#Tune o modelo criado"
   ]
  },
  {
   "cell_type": "markdown",
   "metadata": {},
   "source": [
    "### Avaliar o modelo"
   ]
  },
  {
   "cell_type": "markdown",
   "metadata": {},
   "source": [
    "<b>plot_model:</b> Esta função analisa o desempenho de um modelo treinado no conjunto de validação}"
   ]
  },
  {
   "cell_type": "code",
   "execution_count": null,
   "metadata": {},
   "outputs": [],
   "source": [
    "plot_model?"
   ]
  },
  {
   "cell_type": "code",
   "execution_count": null,
   "metadata": {},
   "outputs": [],
   "source": [
    "#Gere Avalie a matriz de confusão"
   ]
  },
  {
   "cell_type": "code",
   "execution_count": null,
   "metadata": {},
   "outputs": [],
   "source": [
    "#Gere o gráficos dos erros "
   ]
  },
  {
   "cell_type": "code",
   "execution_count": null,
   "metadata": {},
   "outputs": [],
   "source": [
    "#Gere o gráfico do report das classes"
   ]
  },
  {
   "cell_type": "code",
   "execution_count": null,
   "metadata": {},
   "outputs": [],
   "source": [
    "#Gere o gráfico das melhores features"
   ]
  },
  {
   "cell_type": "code",
   "execution_count": null,
   "metadata": {},
   "outputs": [],
   "source": [
    "#Quais são os parâmetros do seu modelo \"tunado\"\n"
   ]
  },
  {
   "cell_type": "markdown",
   "metadata": {},
   "source": [
    "<b>evaluate_model</b>: Esta função exibe uma interface de usuário para analisar o desempenho de um treinado"
   ]
  },
  {
   "cell_type": "code",
   "execution_count": null,
   "metadata": {},
   "outputs": [],
   "source": [
    "#Gera o evaluete model"
   ]
  },
  {
   "cell_type": "markdown",
   "metadata": {},
   "source": [
    "### Salvar modelo"
   ]
  },
  {
   "cell_type": "markdown",
   "metadata": {},
   "source": [
    "<b> save_model: </b> Esta função salva o pipeline de transformação e o objeto de modelo treinado no diretório de trabalho atual como um arquivo pickle para uso posterior."
   ]
  },
  {
   "cell_type": "code",
   "execution_count": null,
   "metadata": {
    "scrolled": false
   },
   "outputs": [],
   "source": [
    "#salve o modelo"
   ]
  }
 ],
 "metadata": {
  "accelerator": "GPU",
  "colab": {
   "collapsed_sections": [
    "YWUAzo5FJRpr"
   ],
   "name": "Análise RH.ipynb",
   "provenance": []
  },
  "kernelspec": {
   "display_name": "Python 3",
   "language": "python",
   "name": "python3"
  },
  "language_info": {
   "codemirror_mode": {
    "name": "ipython",
    "version": 3
   },
   "file_extension": ".py",
   "mimetype": "text/x-python",
   "name": "python",
   "nbconvert_exporter": "python",
   "pygments_lexer": "ipython3",
   "version": "3.8.5"
  }
 },
 "nbformat": 4,
 "nbformat_minor": 1
}
