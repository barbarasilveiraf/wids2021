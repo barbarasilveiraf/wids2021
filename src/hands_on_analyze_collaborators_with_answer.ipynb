{
 "cells": [
  {
   "cell_type": "code",
   "execution_count": 1,
   "metadata": {
    "colab": {
     "base_uri": "https://localhost:8080/",
     "height": 333
    },
    "collapsed": true,
    "id": "P-gLiEsSJYQB",
    "outputId": "a7c3ccb6-039f-4da1-9c5d-6567404516e1"
   },
   "outputs": [
    {
     "name": "stdout",
     "output_type": "stream",
     "text": [
      "--2021-06-26 13:45:30--  https://docs.google.com/uc?export=download&id=1KuesGYYqJ3DdPq1gvMc5Sbs2KcvYXYeE\n",
      "Resolving docs.google.com (docs.google.com)... 2800:3f0:4004:80b::200e, 142.250.79.46\n",
      "Connecting to docs.google.com (docs.google.com)|2800:3f0:4004:80b::200e|:443... connected.\n",
      "HTTP request sent, awaiting response... 302 Moved Temporarily\n",
      "Location: https://doc-0o-3k-docs.googleusercontent.com/docs/securesc/ha0ro937gcuc7l7deffksulhg5h7mbp1/4ru21phih43o5nm60qrvvjlqe6k4cpjg/1624725900000/08155615283259294201/*/1KuesGYYqJ3DdPq1gvMc5Sbs2KcvYXYeE?e=download [following]\n",
      "Warning: wildcards not supported in HTTP.\n",
      "--2021-06-26 13:45:31--  https://doc-0o-3k-docs.googleusercontent.com/docs/securesc/ha0ro937gcuc7l7deffksulhg5h7mbp1/4ru21phih43o5nm60qrvvjlqe6k4cpjg/1624725900000/08155615283259294201/*/1KuesGYYqJ3DdPq1gvMc5Sbs2KcvYXYeE?e=download\n",
      "Resolving doc-0o-3k-docs.googleusercontent.com (doc-0o-3k-docs.googleusercontent.com)... 2800:3f0:4004:80a::2001, 172.217.162.161\n",
      "Connecting to doc-0o-3k-docs.googleusercontent.com (doc-0o-3k-docs.googleusercontent.com)|2800:3f0:4004:80a::2001|:443... connected.\n",
      "HTTP request sent, awaiting response... 200 OK\n",
      "Length: 227977 (223K) [text/csv]\n",
      "Saving to: ‘../data/HR-Employee-Attrition.csv’\n",
      "\n",
      "../data/HR-Employee 100%[===================>] 222,63K  --.-KB/s    in 0,1s    \n",
      "\n",
      "2021-06-26 13:45:32 (1,55 MB/s) - ‘../data/HR-Employee-Attrition.csv’ saved [227977/227977]\n",
      "\n"
     ]
    }
   ],
   "source": [
    "#Download dataset\n",
    "!wget -O '../data/HR-Employee-Attrition.csv' 'https://docs.google.com/uc?export=download&id=1KuesGYYqJ3DdPq1gvMc5Sbs2KcvYXYeE'"
   ]
  },
  {
   "cell_type": "code",
   "execution_count": 2,
   "metadata": {
    "colab": {
     "base_uri": "https://localhost:8080/",
     "height": 577
    },
    "id": "yhMIBA19JaAT",
    "outputId": "83a738be-c3d4-4e22-957f-988298dbcb53"
   },
   "outputs": [],
   "source": [
    "#!pip install -r requirements.txt\n",
    "#!pip install pandas==1.2.5\n",
    "#!pip install pandas_profiling==2.11.0\n",
    "#!pip install matplotlib==3.3.4\n",
    "#!pip install pycaret==2.3.1\n",
    "#!pip install numpy==1.19.5\n",
    "#!pip install seaborn==0.11.1\n",
    "#!pip install scikit_learn==0.23.2\n",
    "\n",
    "#depois de instalar esses pacotes, reinicie o kernel.\n",
    "    #no jupyer notebook -> Kernel > Restart\n",
    "    #no colab -> Runtime > Runtime Restart"
   ]
  },
  {
   "cell_type": "code",
   "execution_count": 1,
   "metadata": {
    "id": "1CtXmkxhJRkN"
   },
   "outputs": [],
   "source": [
    "import pandas as pd\n",
    "import seaborn as sns\n",
    "import matplotlib.pyplot as plt  \n",
    "from sklearn.decomposition import PCA\n",
    "import numpy as np\n",
    "import warnings\n",
    "warnings.filterwarnings('ignore')\n",
    "\n",
    "sns.set_style(\"whitegrid\")\n",
    "%matplotlib inline"
   ]
  },
  {
   "cell_type": "markdown",
   "metadata": {
    "id": "B7cQkNQhJRkY"
   },
   "source": [
    "# Leitura dos Dados"
   ]
  },
  {
   "cell_type": "code",
   "execution_count": 2,
   "metadata": {
    "id": "vk3HKCy4JRka"
   },
   "outputs": [],
   "source": [
    "df = pd.read_csv(\"../data/HR-Employee-Attrition.csv\")"
   ]
  },
  {
   "cell_type": "code",
   "execution_count": 3,
   "metadata": {
    "colab": {
     "base_uri": "https://localhost:8080/",
     "height": 316
    },
    "id": "vP7vlUINJRkg",
    "outputId": "773faa14-d27d-414e-dc89-a2d03c2fcc85"
   },
   "outputs": [
    {
     "data": {
      "text/html": [
       "<div>\n",
       "<style scoped>\n",
       "    .dataframe tbody tr th:only-of-type {\n",
       "        vertical-align: middle;\n",
       "    }\n",
       "\n",
       "    .dataframe tbody tr th {\n",
       "        vertical-align: top;\n",
       "    }\n",
       "\n",
       "    .dataframe thead th {\n",
       "        text-align: right;\n",
       "    }\n",
       "</style>\n",
       "<table border=\"1\" class=\"dataframe\">\n",
       "  <thead>\n",
       "    <tr style=\"text-align: right;\">\n",
       "      <th></th>\n",
       "      <th>Age</th>\n",
       "      <th>Attrition</th>\n",
       "      <th>BusinessTravel</th>\n",
       "      <th>DailyRate</th>\n",
       "      <th>Department</th>\n",
       "      <th>DistanceFromHome</th>\n",
       "      <th>Education</th>\n",
       "      <th>EducationField</th>\n",
       "      <th>EmployeeCount</th>\n",
       "      <th>EmployeeNumber</th>\n",
       "      <th>...</th>\n",
       "      <th>RelationshipSatisfaction</th>\n",
       "      <th>StandardHours</th>\n",
       "      <th>StockOptionLevel</th>\n",
       "      <th>TotalWorkingYears</th>\n",
       "      <th>TrainingTimesLastYear</th>\n",
       "      <th>WorkLifeBalance</th>\n",
       "      <th>YearsAtCompany</th>\n",
       "      <th>YearsInCurrentRole</th>\n",
       "      <th>YearsSinceLastPromotion</th>\n",
       "      <th>YearsWithCurrManager</th>\n",
       "    </tr>\n",
       "  </thead>\n",
       "  <tbody>\n",
       "    <tr>\n",
       "      <th>0</th>\n",
       "      <td>41</td>\n",
       "      <td>Yes</td>\n",
       "      <td>Travel_Rarely</td>\n",
       "      <td>1102</td>\n",
       "      <td>Sales</td>\n",
       "      <td>1</td>\n",
       "      <td>2</td>\n",
       "      <td>Life Sciences</td>\n",
       "      <td>1</td>\n",
       "      <td>1</td>\n",
       "      <td>...</td>\n",
       "      <td>1</td>\n",
       "      <td>80</td>\n",
       "      <td>0</td>\n",
       "      <td>8</td>\n",
       "      <td>0</td>\n",
       "      <td>1</td>\n",
       "      <td>6</td>\n",
       "      <td>4</td>\n",
       "      <td>0</td>\n",
       "      <td>5</td>\n",
       "    </tr>\n",
       "    <tr>\n",
       "      <th>1</th>\n",
       "      <td>49</td>\n",
       "      <td>No</td>\n",
       "      <td>Travel_Frequently</td>\n",
       "      <td>279</td>\n",
       "      <td>Research &amp; Development</td>\n",
       "      <td>8</td>\n",
       "      <td>1</td>\n",
       "      <td>Life Sciences</td>\n",
       "      <td>1</td>\n",
       "      <td>2</td>\n",
       "      <td>...</td>\n",
       "      <td>4</td>\n",
       "      <td>80</td>\n",
       "      <td>1</td>\n",
       "      <td>10</td>\n",
       "      <td>3</td>\n",
       "      <td>3</td>\n",
       "      <td>10</td>\n",
       "      <td>7</td>\n",
       "      <td>1</td>\n",
       "      <td>7</td>\n",
       "    </tr>\n",
       "    <tr>\n",
       "      <th>2</th>\n",
       "      <td>37</td>\n",
       "      <td>Yes</td>\n",
       "      <td>Travel_Rarely</td>\n",
       "      <td>1373</td>\n",
       "      <td>Research &amp; Development</td>\n",
       "      <td>2</td>\n",
       "      <td>2</td>\n",
       "      <td>Other</td>\n",
       "      <td>1</td>\n",
       "      <td>4</td>\n",
       "      <td>...</td>\n",
       "      <td>2</td>\n",
       "      <td>80</td>\n",
       "      <td>0</td>\n",
       "      <td>7</td>\n",
       "      <td>3</td>\n",
       "      <td>3</td>\n",
       "      <td>0</td>\n",
       "      <td>0</td>\n",
       "      <td>0</td>\n",
       "      <td>0</td>\n",
       "    </tr>\n",
       "    <tr>\n",
       "      <th>3</th>\n",
       "      <td>33</td>\n",
       "      <td>No</td>\n",
       "      <td>Travel_Frequently</td>\n",
       "      <td>1392</td>\n",
       "      <td>Research &amp; Development</td>\n",
       "      <td>3</td>\n",
       "      <td>4</td>\n",
       "      <td>Life Sciences</td>\n",
       "      <td>1</td>\n",
       "      <td>5</td>\n",
       "      <td>...</td>\n",
       "      <td>3</td>\n",
       "      <td>80</td>\n",
       "      <td>0</td>\n",
       "      <td>8</td>\n",
       "      <td>3</td>\n",
       "      <td>3</td>\n",
       "      <td>8</td>\n",
       "      <td>7</td>\n",
       "      <td>3</td>\n",
       "      <td>0</td>\n",
       "    </tr>\n",
       "    <tr>\n",
       "      <th>4</th>\n",
       "      <td>27</td>\n",
       "      <td>No</td>\n",
       "      <td>Travel_Rarely</td>\n",
       "      <td>591</td>\n",
       "      <td>Research &amp; Development</td>\n",
       "      <td>2</td>\n",
       "      <td>1</td>\n",
       "      <td>Medical</td>\n",
       "      <td>1</td>\n",
       "      <td>7</td>\n",
       "      <td>...</td>\n",
       "      <td>4</td>\n",
       "      <td>80</td>\n",
       "      <td>1</td>\n",
       "      <td>6</td>\n",
       "      <td>3</td>\n",
       "      <td>3</td>\n",
       "      <td>2</td>\n",
       "      <td>2</td>\n",
       "      <td>2</td>\n",
       "      <td>2</td>\n",
       "    </tr>\n",
       "  </tbody>\n",
       "</table>\n",
       "<p>5 rows × 35 columns</p>\n",
       "</div>"
      ],
      "text/plain": [
       "   Age Attrition     BusinessTravel  DailyRate              Department  \\\n",
       "0   41       Yes      Travel_Rarely       1102                   Sales   \n",
       "1   49        No  Travel_Frequently        279  Research & Development   \n",
       "2   37       Yes      Travel_Rarely       1373  Research & Development   \n",
       "3   33        No  Travel_Frequently       1392  Research & Development   \n",
       "4   27        No      Travel_Rarely        591  Research & Development   \n",
       "\n",
       "   DistanceFromHome  Education EducationField  EmployeeCount  EmployeeNumber  \\\n",
       "0                 1          2  Life Sciences              1               1   \n",
       "1                 8          1  Life Sciences              1               2   \n",
       "2                 2          2          Other              1               4   \n",
       "3                 3          4  Life Sciences              1               5   \n",
       "4                 2          1        Medical              1               7   \n",
       "\n",
       "   ...  RelationshipSatisfaction StandardHours  StockOptionLevel  \\\n",
       "0  ...                         1            80                 0   \n",
       "1  ...                         4            80                 1   \n",
       "2  ...                         2            80                 0   \n",
       "3  ...                         3            80                 0   \n",
       "4  ...                         4            80                 1   \n",
       "\n",
       "   TotalWorkingYears  TrainingTimesLastYear WorkLifeBalance  YearsAtCompany  \\\n",
       "0                  8                      0               1               6   \n",
       "1                 10                      3               3              10   \n",
       "2                  7                      3               3               0   \n",
       "3                  8                      3               3               8   \n",
       "4                  6                      3               3               2   \n",
       "\n",
       "  YearsInCurrentRole  YearsSinceLastPromotion  YearsWithCurrManager  \n",
       "0                  4                        0                     5  \n",
       "1                  7                        1                     7  \n",
       "2                  0                        0                     0  \n",
       "3                  7                        3                     0  \n",
       "4                  2                        2                     2  \n",
       "\n",
       "[5 rows x 35 columns]"
      ]
     },
     "execution_count": 3,
     "metadata": {},
     "output_type": "execute_result"
    }
   ],
   "source": [
    "df.head()"
   ]
  },
  {
   "cell_type": "code",
   "execution_count": 7,
   "metadata": {
    "colab": {
     "base_uri": "https://localhost:8080/",
     "height": 34
    },
    "id": "IQlK107wJRko",
    "outputId": "4a86ce68-6a16-4dcd-a091-f883786008ef"
   },
   "outputs": [
    {
     "data": {
      "text/plain": [
       "(1470, 35)"
      ]
     },
     "execution_count": 7,
     "metadata": {},
     "output_type": "execute_result"
    }
   ],
   "source": [
    "df.shape"
   ]
  },
  {
   "cell_type": "markdown",
   "metadata": {
    "id": "alZZP9h0JRkt"
   },
   "source": [
    "# Conhecendo os dados"
   ]
  },
  {
   "cell_type": "code",
   "execution_count": 8,
   "metadata": {
    "colab": {
     "base_uri": "https://localhost:8080/",
     "height": 208
    },
    "id": "X06erQ8zJRku",
    "outputId": "53c6aaf8-ce44-42d9-8ddc-d01c91761624"
   },
   "outputs": [
    {
     "data": {
      "text/plain": [
       "Index(['Age', 'Attrition', 'BusinessTravel', 'DailyRate', 'Department',\n",
       "       'DistanceFromHome', 'Education', 'EducationField', 'EmployeeCount',\n",
       "       'EmployeeNumber', 'EnvironmentSatisfaction', 'Gender', 'HourlyRate',\n",
       "       'JobInvolvement', 'JobLevel', 'JobRole', 'JobSatisfaction',\n",
       "       'MaritalStatus', 'MonthlyIncome', 'MonthlyRate', 'NumCompaniesWorked',\n",
       "       'Over18', 'OverTime', 'PercentSalaryHike', 'PerformanceRating',\n",
       "       'RelationshipSatisfaction', 'StandardHours', 'StockOptionLevel',\n",
       "       'TotalWorkingYears', 'TrainingTimesLastYear', 'WorkLifeBalance',\n",
       "       'YearsAtCompany', 'YearsInCurrentRole', 'YearsSinceLastPromotion',\n",
       "       'YearsWithCurrManager'],\n",
       "      dtype='object')"
      ]
     },
     "execution_count": 8,
     "metadata": {},
     "output_type": "execute_result"
    }
   ],
   "source": [
    "df.columns"
   ]
  },
  {
   "cell_type": "code",
   "execution_count": 4,
   "metadata": {
    "colab": {
     "base_uri": "https://localhost:8080/",
     "height": 644
    },
    "id": "8WAg3jIXJRky",
    "outputId": "fef83fe5-0598-47b8-cd1c-2144f2803c78",
    "scrolled": true
   },
   "outputs": [
    {
     "data": {
      "text/plain": [
       "Age                         0\n",
       "Attrition                   0\n",
       "BusinessTravel              0\n",
       "DailyRate                   0\n",
       "Department                  0\n",
       "DistanceFromHome            0\n",
       "Education                   0\n",
       "EducationField              0\n",
       "EmployeeCount               0\n",
       "EmployeeNumber              0\n",
       "EnvironmentSatisfaction     0\n",
       "Gender                      0\n",
       "HourlyRate                  0\n",
       "JobInvolvement              0\n",
       "JobLevel                    0\n",
       "JobRole                     0\n",
       "JobSatisfaction             0\n",
       "MaritalStatus               0\n",
       "MonthlyIncome               0\n",
       "MonthlyRate                 0\n",
       "NumCompaniesWorked          0\n",
       "Over18                      0\n",
       "OverTime                    0\n",
       "PercentSalaryHike           0\n",
       "PerformanceRating           0\n",
       "RelationshipSatisfaction    0\n",
       "StandardHours               0\n",
       "StockOptionLevel            0\n",
       "TotalWorkingYears           0\n",
       "TrainingTimesLastYear       0\n",
       "WorkLifeBalance             0\n",
       "YearsAtCompany              0\n",
       "YearsInCurrentRole          0\n",
       "YearsSinceLastPromotion     0\n",
       "YearsWithCurrManager        0\n",
       "dtype: int64"
      ]
     },
     "execution_count": 4,
     "metadata": {},
     "output_type": "execute_result"
    }
   ],
   "source": [
    "#Check valores faltamte\n",
    "df.isna().sum()"
   ]
  },
  {
   "cell_type": "code",
   "execution_count": 5,
   "metadata": {
    "colab": {
     "base_uri": "https://localhost:8080/",
     "height": 644
    },
    "id": "xQuZKmf2JRk7",
    "outputId": "66a63f82-0351-4e15-e720-3923019f959c",
    "scrolled": true
   },
   "outputs": [
    {
     "data": {
      "text/plain": [
       "Age                          int64\n",
       "Attrition                   object\n",
       "BusinessTravel              object\n",
       "DailyRate                    int64\n",
       "Department                  object\n",
       "DistanceFromHome             int64\n",
       "Education                    int64\n",
       "EducationField              object\n",
       "EmployeeCount                int64\n",
       "EmployeeNumber               int64\n",
       "EnvironmentSatisfaction      int64\n",
       "Gender                      object\n",
       "HourlyRate                   int64\n",
       "JobInvolvement               int64\n",
       "JobLevel                     int64\n",
       "JobRole                     object\n",
       "JobSatisfaction              int64\n",
       "MaritalStatus               object\n",
       "MonthlyIncome                int64\n",
       "MonthlyRate                  int64\n",
       "NumCompaniesWorked           int64\n",
       "Over18                      object\n",
       "OverTime                    object\n",
       "PercentSalaryHike            int64\n",
       "PerformanceRating            int64\n",
       "RelationshipSatisfaction     int64\n",
       "StandardHours                int64\n",
       "StockOptionLevel             int64\n",
       "TotalWorkingYears            int64\n",
       "TrainingTimesLastYear        int64\n",
       "WorkLifeBalance              int64\n",
       "YearsAtCompany               int64\n",
       "YearsInCurrentRole           int64\n",
       "YearsSinceLastPromotion      int64\n",
       "YearsWithCurrManager         int64\n",
       "dtype: object"
      ]
     },
     "execution_count": 5,
     "metadata": {},
     "output_type": "execute_result"
    }
   ],
   "source": [
    "#Check tipo das colunas\n",
    "df.dtypes"
   ]
  },
  {
   "cell_type": "code",
   "execution_count": 6,
   "metadata": {
    "colab": {
     "base_uri": "https://localhost:8080/",
     "height": 644
    },
    "id": "_d_Cssi9JRk_",
    "outputId": "60b0413b-4198-4d01-c16e-366d27b91445",
    "scrolled": true
   },
   "outputs": [
    {
     "data": {
      "text/plain": [
       "Over18                         1\n",
       "StandardHours                  1\n",
       "EmployeeCount                  1\n",
       "Gender                         2\n",
       "Attrition                      2\n",
       "PerformanceRating              2\n",
       "OverTime                       2\n",
       "MaritalStatus                  3\n",
       "Department                     3\n",
       "BusinessTravel                 3\n",
       "StockOptionLevel               4\n",
       "EnvironmentSatisfaction        4\n",
       "JobInvolvement                 4\n",
       "JobSatisfaction                4\n",
       "RelationshipSatisfaction       4\n",
       "WorkLifeBalance                4\n",
       "Education                      5\n",
       "JobLevel                       5\n",
       "EducationField                 6\n",
       "TrainingTimesLastYear          7\n",
       "JobRole                        9\n",
       "NumCompaniesWorked            10\n",
       "PercentSalaryHike             15\n",
       "YearsSinceLastPromotion       16\n",
       "YearsWithCurrManager          18\n",
       "YearsInCurrentRole            19\n",
       "DistanceFromHome              29\n",
       "YearsAtCompany                37\n",
       "TotalWorkingYears             40\n",
       "Age                           43\n",
       "HourlyRate                    71\n",
       "DailyRate                    886\n",
       "MonthlyIncome               1349\n",
       "MonthlyRate                 1427\n",
       "EmployeeNumber              1470\n",
       "dtype: int64"
      ]
     },
     "execution_count": 6,
     "metadata": {},
     "output_type": "execute_result"
    }
   ],
   "source": [
    "#Check colunas com apenas 1 valor\n",
    "## colunas que nao ajudam discriminar o dado, elas não agregam\n",
    "df.nunique().sort_values()"
   ]
  },
  {
   "cell_type": "code",
   "execution_count": 12,
   "metadata": {
    "id": "apLEdmuqJRlD"
   },
   "outputs": [],
   "source": [
    "#drop colunas com apenas 1 tipo de valor\n",
    "columns_unique_value =[\"EmployeeCount\", \"Over18\", \"StandardHours\"]\n",
    "df = df.drop(columns=columns_unique_value)"
   ]
  },
  {
   "cell_type": "code",
   "execution_count": 13,
   "metadata": {
    "colab": {
     "base_uri": "https://localhost:8080/",
     "height": 774
    },
    "id": "a7acGKpNJRlL",
    "outputId": "f3ee08b1-dadd-4479-9435-03346cb20e13",
    "scrolled": true
   },
   "outputs": [
    {
     "data": {
      "text/html": [
       "<div>\n",
       "<style scoped>\n",
       "    .dataframe tbody tr th:only-of-type {\n",
       "        vertical-align: middle;\n",
       "    }\n",
       "\n",
       "    .dataframe tbody tr th {\n",
       "        vertical-align: top;\n",
       "    }\n",
       "\n",
       "    .dataframe thead th {\n",
       "        text-align: right;\n",
       "    }\n",
       "</style>\n",
       "<table border=\"1\" class=\"dataframe\">\n",
       "  <thead>\n",
       "    <tr style=\"text-align: right;\">\n",
       "      <th></th>\n",
       "      <th>count</th>\n",
       "      <th>mean</th>\n",
       "      <th>std</th>\n",
       "      <th>min</th>\n",
       "      <th>25%</th>\n",
       "      <th>50%</th>\n",
       "      <th>75%</th>\n",
       "      <th>max</th>\n",
       "    </tr>\n",
       "  </thead>\n",
       "  <tbody>\n",
       "    <tr>\n",
       "      <th>Age</th>\n",
       "      <td>1470.0</td>\n",
       "      <td>36.923810</td>\n",
       "      <td>9.135373</td>\n",
       "      <td>18.0</td>\n",
       "      <td>30.00</td>\n",
       "      <td>36.0</td>\n",
       "      <td>43.00</td>\n",
       "      <td>60.0</td>\n",
       "    </tr>\n",
       "    <tr>\n",
       "      <th>DailyRate</th>\n",
       "      <td>1470.0</td>\n",
       "      <td>802.485714</td>\n",
       "      <td>403.509100</td>\n",
       "      <td>102.0</td>\n",
       "      <td>465.00</td>\n",
       "      <td>802.0</td>\n",
       "      <td>1157.00</td>\n",
       "      <td>1499.0</td>\n",
       "    </tr>\n",
       "    <tr>\n",
       "      <th>DistanceFromHome</th>\n",
       "      <td>1470.0</td>\n",
       "      <td>9.192517</td>\n",
       "      <td>8.106864</td>\n",
       "      <td>1.0</td>\n",
       "      <td>2.00</td>\n",
       "      <td>7.0</td>\n",
       "      <td>14.00</td>\n",
       "      <td>29.0</td>\n",
       "    </tr>\n",
       "    <tr>\n",
       "      <th>Education</th>\n",
       "      <td>1470.0</td>\n",
       "      <td>2.912925</td>\n",
       "      <td>1.024165</td>\n",
       "      <td>1.0</td>\n",
       "      <td>2.00</td>\n",
       "      <td>3.0</td>\n",
       "      <td>4.00</td>\n",
       "      <td>5.0</td>\n",
       "    </tr>\n",
       "    <tr>\n",
       "      <th>EmployeeNumber</th>\n",
       "      <td>1470.0</td>\n",
       "      <td>1024.865306</td>\n",
       "      <td>602.024335</td>\n",
       "      <td>1.0</td>\n",
       "      <td>491.25</td>\n",
       "      <td>1020.5</td>\n",
       "      <td>1555.75</td>\n",
       "      <td>2068.0</td>\n",
       "    </tr>\n",
       "    <tr>\n",
       "      <th>EnvironmentSatisfaction</th>\n",
       "      <td>1470.0</td>\n",
       "      <td>2.721769</td>\n",
       "      <td>1.093082</td>\n",
       "      <td>1.0</td>\n",
       "      <td>2.00</td>\n",
       "      <td>3.0</td>\n",
       "      <td>4.00</td>\n",
       "      <td>4.0</td>\n",
       "    </tr>\n",
       "    <tr>\n",
       "      <th>HourlyRate</th>\n",
       "      <td>1470.0</td>\n",
       "      <td>65.891156</td>\n",
       "      <td>20.329428</td>\n",
       "      <td>30.0</td>\n",
       "      <td>48.00</td>\n",
       "      <td>66.0</td>\n",
       "      <td>83.75</td>\n",
       "      <td>100.0</td>\n",
       "    </tr>\n",
       "    <tr>\n",
       "      <th>JobInvolvement</th>\n",
       "      <td>1470.0</td>\n",
       "      <td>2.729932</td>\n",
       "      <td>0.711561</td>\n",
       "      <td>1.0</td>\n",
       "      <td>2.00</td>\n",
       "      <td>3.0</td>\n",
       "      <td>3.00</td>\n",
       "      <td>4.0</td>\n",
       "    </tr>\n",
       "    <tr>\n",
       "      <th>JobLevel</th>\n",
       "      <td>1470.0</td>\n",
       "      <td>2.063946</td>\n",
       "      <td>1.106940</td>\n",
       "      <td>1.0</td>\n",
       "      <td>1.00</td>\n",
       "      <td>2.0</td>\n",
       "      <td>3.00</td>\n",
       "      <td>5.0</td>\n",
       "    </tr>\n",
       "    <tr>\n",
       "      <th>JobSatisfaction</th>\n",
       "      <td>1470.0</td>\n",
       "      <td>2.728571</td>\n",
       "      <td>1.102846</td>\n",
       "      <td>1.0</td>\n",
       "      <td>2.00</td>\n",
       "      <td>3.0</td>\n",
       "      <td>4.00</td>\n",
       "      <td>4.0</td>\n",
       "    </tr>\n",
       "    <tr>\n",
       "      <th>MonthlyIncome</th>\n",
       "      <td>1470.0</td>\n",
       "      <td>6502.931293</td>\n",
       "      <td>4707.956783</td>\n",
       "      <td>1009.0</td>\n",
       "      <td>2911.00</td>\n",
       "      <td>4919.0</td>\n",
       "      <td>8379.00</td>\n",
       "      <td>19999.0</td>\n",
       "    </tr>\n",
       "    <tr>\n",
       "      <th>MonthlyRate</th>\n",
       "      <td>1470.0</td>\n",
       "      <td>14313.103401</td>\n",
       "      <td>7117.786044</td>\n",
       "      <td>2094.0</td>\n",
       "      <td>8047.00</td>\n",
       "      <td>14235.5</td>\n",
       "      <td>20461.50</td>\n",
       "      <td>26999.0</td>\n",
       "    </tr>\n",
       "    <tr>\n",
       "      <th>NumCompaniesWorked</th>\n",
       "      <td>1470.0</td>\n",
       "      <td>2.693197</td>\n",
       "      <td>2.498009</td>\n",
       "      <td>0.0</td>\n",
       "      <td>1.00</td>\n",
       "      <td>2.0</td>\n",
       "      <td>4.00</td>\n",
       "      <td>9.0</td>\n",
       "    </tr>\n",
       "    <tr>\n",
       "      <th>PercentSalaryHike</th>\n",
       "      <td>1470.0</td>\n",
       "      <td>15.209524</td>\n",
       "      <td>3.659938</td>\n",
       "      <td>11.0</td>\n",
       "      <td>12.00</td>\n",
       "      <td>14.0</td>\n",
       "      <td>18.00</td>\n",
       "      <td>25.0</td>\n",
       "    </tr>\n",
       "    <tr>\n",
       "      <th>PerformanceRating</th>\n",
       "      <td>1470.0</td>\n",
       "      <td>3.153741</td>\n",
       "      <td>0.360824</td>\n",
       "      <td>3.0</td>\n",
       "      <td>3.00</td>\n",
       "      <td>3.0</td>\n",
       "      <td>3.00</td>\n",
       "      <td>4.0</td>\n",
       "    </tr>\n",
       "    <tr>\n",
       "      <th>RelationshipSatisfaction</th>\n",
       "      <td>1470.0</td>\n",
       "      <td>2.712245</td>\n",
       "      <td>1.081209</td>\n",
       "      <td>1.0</td>\n",
       "      <td>2.00</td>\n",
       "      <td>3.0</td>\n",
       "      <td>4.00</td>\n",
       "      <td>4.0</td>\n",
       "    </tr>\n",
       "    <tr>\n",
       "      <th>StockOptionLevel</th>\n",
       "      <td>1470.0</td>\n",
       "      <td>0.793878</td>\n",
       "      <td>0.852077</td>\n",
       "      <td>0.0</td>\n",
       "      <td>0.00</td>\n",
       "      <td>1.0</td>\n",
       "      <td>1.00</td>\n",
       "      <td>3.0</td>\n",
       "    </tr>\n",
       "    <tr>\n",
       "      <th>TotalWorkingYears</th>\n",
       "      <td>1470.0</td>\n",
       "      <td>11.279592</td>\n",
       "      <td>7.780782</td>\n",
       "      <td>0.0</td>\n",
       "      <td>6.00</td>\n",
       "      <td>10.0</td>\n",
       "      <td>15.00</td>\n",
       "      <td>40.0</td>\n",
       "    </tr>\n",
       "    <tr>\n",
       "      <th>TrainingTimesLastYear</th>\n",
       "      <td>1470.0</td>\n",
       "      <td>2.799320</td>\n",
       "      <td>1.289271</td>\n",
       "      <td>0.0</td>\n",
       "      <td>2.00</td>\n",
       "      <td>3.0</td>\n",
       "      <td>3.00</td>\n",
       "      <td>6.0</td>\n",
       "    </tr>\n",
       "    <tr>\n",
       "      <th>WorkLifeBalance</th>\n",
       "      <td>1470.0</td>\n",
       "      <td>2.761224</td>\n",
       "      <td>0.706476</td>\n",
       "      <td>1.0</td>\n",
       "      <td>2.00</td>\n",
       "      <td>3.0</td>\n",
       "      <td>3.00</td>\n",
       "      <td>4.0</td>\n",
       "    </tr>\n",
       "    <tr>\n",
       "      <th>YearsAtCompany</th>\n",
       "      <td>1470.0</td>\n",
       "      <td>7.008163</td>\n",
       "      <td>6.126525</td>\n",
       "      <td>0.0</td>\n",
       "      <td>3.00</td>\n",
       "      <td>5.0</td>\n",
       "      <td>9.00</td>\n",
       "      <td>40.0</td>\n",
       "    </tr>\n",
       "    <tr>\n",
       "      <th>YearsInCurrentRole</th>\n",
       "      <td>1470.0</td>\n",
       "      <td>4.229252</td>\n",
       "      <td>3.623137</td>\n",
       "      <td>0.0</td>\n",
       "      <td>2.00</td>\n",
       "      <td>3.0</td>\n",
       "      <td>7.00</td>\n",
       "      <td>18.0</td>\n",
       "    </tr>\n",
       "    <tr>\n",
       "      <th>YearsSinceLastPromotion</th>\n",
       "      <td>1470.0</td>\n",
       "      <td>2.187755</td>\n",
       "      <td>3.222430</td>\n",
       "      <td>0.0</td>\n",
       "      <td>0.00</td>\n",
       "      <td>1.0</td>\n",
       "      <td>3.00</td>\n",
       "      <td>15.0</td>\n",
       "    </tr>\n",
       "    <tr>\n",
       "      <th>YearsWithCurrManager</th>\n",
       "      <td>1470.0</td>\n",
       "      <td>4.123129</td>\n",
       "      <td>3.568136</td>\n",
       "      <td>0.0</td>\n",
       "      <td>2.00</td>\n",
       "      <td>3.0</td>\n",
       "      <td>7.00</td>\n",
       "      <td>17.0</td>\n",
       "    </tr>\n",
       "  </tbody>\n",
       "</table>\n",
       "</div>"
      ],
      "text/plain": [
       "                           count          mean          std     min      25%  \\\n",
       "Age                       1470.0     36.923810     9.135373    18.0    30.00   \n",
       "DailyRate                 1470.0    802.485714   403.509100   102.0   465.00   \n",
       "DistanceFromHome          1470.0      9.192517     8.106864     1.0     2.00   \n",
       "Education                 1470.0      2.912925     1.024165     1.0     2.00   \n",
       "EmployeeNumber            1470.0   1024.865306   602.024335     1.0   491.25   \n",
       "EnvironmentSatisfaction   1470.0      2.721769     1.093082     1.0     2.00   \n",
       "HourlyRate                1470.0     65.891156    20.329428    30.0    48.00   \n",
       "JobInvolvement            1470.0      2.729932     0.711561     1.0     2.00   \n",
       "JobLevel                  1470.0      2.063946     1.106940     1.0     1.00   \n",
       "JobSatisfaction           1470.0      2.728571     1.102846     1.0     2.00   \n",
       "MonthlyIncome             1470.0   6502.931293  4707.956783  1009.0  2911.00   \n",
       "MonthlyRate               1470.0  14313.103401  7117.786044  2094.0  8047.00   \n",
       "NumCompaniesWorked        1470.0      2.693197     2.498009     0.0     1.00   \n",
       "PercentSalaryHike         1470.0     15.209524     3.659938    11.0    12.00   \n",
       "PerformanceRating         1470.0      3.153741     0.360824     3.0     3.00   \n",
       "RelationshipSatisfaction  1470.0      2.712245     1.081209     1.0     2.00   \n",
       "StockOptionLevel          1470.0      0.793878     0.852077     0.0     0.00   \n",
       "TotalWorkingYears         1470.0     11.279592     7.780782     0.0     6.00   \n",
       "TrainingTimesLastYear     1470.0      2.799320     1.289271     0.0     2.00   \n",
       "WorkLifeBalance           1470.0      2.761224     0.706476     1.0     2.00   \n",
       "YearsAtCompany            1470.0      7.008163     6.126525     0.0     3.00   \n",
       "YearsInCurrentRole        1470.0      4.229252     3.623137     0.0     2.00   \n",
       "YearsSinceLastPromotion   1470.0      2.187755     3.222430     0.0     0.00   \n",
       "YearsWithCurrManager      1470.0      4.123129     3.568136     0.0     2.00   \n",
       "\n",
       "                              50%       75%      max  \n",
       "Age                          36.0     43.00     60.0  \n",
       "DailyRate                   802.0   1157.00   1499.0  \n",
       "DistanceFromHome              7.0     14.00     29.0  \n",
       "Education                     3.0      4.00      5.0  \n",
       "EmployeeNumber             1020.5   1555.75   2068.0  \n",
       "EnvironmentSatisfaction       3.0      4.00      4.0  \n",
       "HourlyRate                   66.0     83.75    100.0  \n",
       "JobInvolvement                3.0      3.00      4.0  \n",
       "JobLevel                      2.0      3.00      5.0  \n",
       "JobSatisfaction               3.0      4.00      4.0  \n",
       "MonthlyIncome              4919.0   8379.00  19999.0  \n",
       "MonthlyRate               14235.5  20461.50  26999.0  \n",
       "NumCompaniesWorked            2.0      4.00      9.0  \n",
       "PercentSalaryHike            14.0     18.00     25.0  \n",
       "PerformanceRating             3.0      3.00      4.0  \n",
       "RelationshipSatisfaction      3.0      4.00      4.0  \n",
       "StockOptionLevel              1.0      1.00      3.0  \n",
       "TotalWorkingYears            10.0     15.00     40.0  \n",
       "TrainingTimesLastYear         3.0      3.00      6.0  \n",
       "WorkLifeBalance               3.0      3.00      4.0  \n",
       "YearsAtCompany                5.0      9.00     40.0  \n",
       "YearsInCurrentRole            3.0      7.00     18.0  \n",
       "YearsSinceLastPromotion       1.0      3.00     15.0  \n",
       "YearsWithCurrManager          3.0      7.00     17.0  "
      ]
     },
     "execution_count": 13,
     "metadata": {},
     "output_type": "execute_result"
    }
   ],
   "source": [
    "df.describe().T"
   ]
  },
  {
   "cell_type": "markdown",
   "metadata": {},
   "source": [
    "# Análise descritiva"
   ]
  },
  {
   "cell_type": "markdown",
   "metadata": {},
   "source": [
    "Pandas profiling"
   ]
  },
  {
   "cell_type": "code",
   "execution_count": 7,
   "metadata": {},
   "outputs": [],
   "source": [
    "from pandas_profiling import ProfileReport"
   ]
  },
  {
   "cell_type": "code",
   "execution_count": 8,
   "metadata": {},
   "outputs": [],
   "source": [
    "profile = ProfileReport(df, title=\"Pandas Profiling Report\")"
   ]
  },
  {
   "cell_type": "code",
   "execution_count": 9,
   "metadata": {},
   "outputs": [
    {
     "data": {
      "application/vnd.jupyter.widget-view+json": {
       "model_id": "9676c8bb0a1a4d429a17cfc2a5b76338",
       "version_major": 2,
       "version_minor": 0
      },
      "text/plain": [
       "HBox(children=(HTML(value='Summarize dataset'), FloatProgress(value=0.0, max=48.0), HTML(value='')))"
      ]
     },
     "metadata": {},
     "output_type": "display_data"
    },
    {
     "name": "stdout",
     "output_type": "stream",
     "text": [
      "\n"
     ]
    },
    {
     "data": {
      "application/vnd.jupyter.widget-view+json": {
       "model_id": "0af522e9f5e544338a0006c96a61dbee",
       "version_major": 2,
       "version_minor": 0
      },
      "text/plain": [
       "HBox(children=(HTML(value='Generate report structure'), FloatProgress(value=0.0, max=1.0), HTML(value='')))"
      ]
     },
     "metadata": {},
     "output_type": "display_data"
    },
    {
     "name": "stdout",
     "output_type": "stream",
     "text": [
      "\n"
     ]
    },
    {
     "data": {
      "application/vnd.jupyter.widget-view+json": {
       "model_id": "d3879f4950254fbbac8d9519bc8aad8a",
       "version_major": 2,
       "version_minor": 0
      },
      "text/plain": [
       "HBox(children=(HTML(value='Render HTML'), FloatProgress(value=0.0, max=1.0), HTML(value='')))"
      ]
     },
     "metadata": {},
     "output_type": "display_data"
    },
    {
     "name": "stdout",
     "output_type": "stream",
     "text": [
      "\n"
     ]
    },
    {
     "data": {
      "application/vnd.jupyter.widget-view+json": {
       "model_id": "af5c88f5843b49798f59cd27bd3ff612",
       "version_major": 2,
       "version_minor": 0
      },
      "text/plain": [
       "HBox(children=(HTML(value='Export report to file'), FloatProgress(value=0.0, max=1.0), HTML(value='')))"
      ]
     },
     "metadata": {},
     "output_type": "display_data"
    },
    {
     "name": "stdout",
     "output_type": "stream",
     "text": [
      "\n",
      "CPU times: user 1min 36s, sys: 19.6 s, total: 1min 56s\n",
      "Wall time: 1min 39s\n"
     ]
    }
   ],
   "source": [
    "%%time\n",
    "profile.to_file(\"../output/df_profile.html\")"
   ]
  },
  {
   "cell_type": "markdown",
   "metadata": {
    "id": "PJyCBk6_JRlP"
   },
   "source": [
    "# Análise Exploratória"
   ]
  },
  {
   "cell_type": "markdown",
   "metadata": {
    "id": "hj5G-rqDJRlQ"
   },
   "source": [
    "## Pessoas que sairam da empresa"
   ]
  },
  {
   "cell_type": "code",
   "execution_count": 10,
   "metadata": {},
   "outputs": [
    {
     "data": {
      "text/plain": [
       "No     1233\n",
       "Yes     237\n",
       "Name: Attrition, dtype: int64"
      ]
     },
     "execution_count": 10,
     "metadata": {},
     "output_type": "execute_result"
    }
   ],
   "source": [
    "df[\"Attrition\"].value_counts()#.plot(kind=\"bar\")"
   ]
  },
  {
   "cell_type": "markdown",
   "metadata": {
    "id": "ADTBOeenJRlX"
   },
   "source": [
    "<b> Análise: </b>\n",
    "    - A maior parte dos dados são de pessoas que não sairam da empresa."
   ]
  },
  {
   "cell_type": "markdown",
   "metadata": {},
   "source": [
    "Antes de explorar... um conceito importante: o boxplot:\n",
    "\n",
    "<img src=\"../img/boxplot.png\" width=400/>"
   ]
  },
  {
   "cell_type": "markdown",
   "metadata": {
    "id": "vvBaSdw-JRlY"
   },
   "source": [
    "## E qual a idade delas?"
   ]
  },
  {
   "cell_type": "code",
   "execution_count": 11,
   "metadata": {
    "colab": {
     "base_uri": "https://localhost:8080/",
     "height": 300
    },
    "id": "TZ2mJIf1JRlb",
    "outputId": "ba506e18-d819-43ac-a79e-ea3b45c09b57"
   },
   "outputs": [
    {
     "data": {
      "text/plain": [
       "<matplotlib.legend.Legend at 0x7f138a990dc0>"
      ]
     },
     "execution_count": 11,
     "metadata": {},
     "output_type": "execute_result"
    },
    {
     "data": {
      "image/png": "[encoded data removed]",
      "text/plain": [
       "<Figure size 432x288 with 1 Axes>"
      ]
     },
     "metadata": {
      "needs_background": "light"
     },
     "output_type": "display_data"
    }
   ],
   "source": [
    "sns.boxplot(x=\"Attrition\", y=\"Age\", data=df, hue=\"Gender\", order=[\"No\",\"Yes\"])\n",
    "plt.legend(bbox_to_anchor=(1.25, 0.95))"
   ]
  },
  {
   "cell_type": "markdown",
   "metadata": {
    "id": "CSp2NNxYJRlh"
   },
   "source": [
    "<b> Análise: </b>\n",
    "    - A médiana da idade das pessoas que saem da empresa é menor do que as que permanecem.\n",
    "    - Hipótese: pessoas mais novas saem mais da empresa que pessoas mais velhas."
   ]
  },
  {
   "cell_type": "markdown",
   "metadata": {
    "id": "FvaFHMHlJRlq"
   },
   "source": [
    "## São casadas?"
   ]
  },
  {
   "cell_type": "code",
   "execution_count": 13,
   "metadata": {
    "colab": {
     "base_uri": "https://localhost:8080/",
     "height": 307
    },
    "id": "ZRzOa4Hvq9z9",
    "outputId": "cf1c25e5-f48b-4b51-a519-f8bc25811e00"
   },
   "outputs": [
    {
     "data": {
      "text/plain": [
       "<matplotlib.legend.Legend at 0x7f1353e2aa00>"
      ]
     },
     "execution_count": 13,
     "metadata": {},
     "output_type": "execute_result"
    },
    {
     "data": {
      "image/png": "[encoded data removed]",
      "text/plain": [
       "<Figure size 432x288 with 1 Axes>"
      ]
     },
     "metadata": {
      "needs_background": "light"
     },
     "output_type": "display_data"
    }
   ],
   "source": [
    "df.groupby(\"Attrition\")[\"MaritalStatus\"].value_counts(normalize=True).unstack().plot(kind=\"bar\")\n",
    "plt.legend(loc=9)"
   ]
  },
  {
   "cell_type": "markdown",
   "metadata": {
    "id": "V5aGEtnBJRlz"
   },
   "source": [
    "<b> Análise: </b>\n",
    "    - A maior parte das pessoas que saem são solteiras, o que fazer sentido, pois são pessoas mais novas."
   ]
  },
  {
   "cell_type": "markdown",
   "metadata": {
    "id": "YhZFvRZHJRmB"
   },
   "source": [
    "## Como é o salário dessas pessoas?"
   ]
  },
  {
   "cell_type": "code",
   "execution_count": 14,
   "metadata": {
    "colab": {
     "base_uri": "https://localhost:8080/",
     "height": 300
    },
    "id": "8-QXqvpgJRmC",
    "outputId": "e86874ea-0e6b-45f6-b806-09a08e9f2b86"
   },
   "outputs": [
    {
     "data": {
      "text/plain": [
       "<AxesSubplot:xlabel='Attrition', ylabel='MonthlyIncome'>"
      ]
     },
     "execution_count": 14,
     "metadata": {},
     "output_type": "execute_result"
    },
    {
     "data": {
      "image/png": "[encoded data removed]",
      "text/plain": [
       "<Figure size 432x288 with 1 Axes>"
      ]
     },
     "metadata": {
      "needs_background": "light"
     },
     "output_type": "display_data"
    }
   ],
   "source": [
    "sns.boxplot(df['Attrition'], df['MonthlyIncome'], order=[\"No\",\"Yes\"]) "
   ]
  },
  {
   "cell_type": "markdown",
   "metadata": {},
   "source": [
    "### Tem diferença por gênero?"
   ]
  },
  {
   "cell_type": "code",
   "execution_count": 15,
   "metadata": {
    "colab": {
     "base_uri": "https://localhost:8080/",
     "height": 300
    },
    "id": "6jBvT8CyLM4r",
    "outputId": "a82a760f-a4cb-4b68-ad37-debfeed54f1d"
   },
   "outputs": [
    {
     "data": {
      "text/plain": [
       "<matplotlib.legend.Legend at 0x7f138aa3d7f0>"
      ]
     },
     "execution_count": 15,
     "metadata": {},
     "output_type": "execute_result"
    },
    {
     "data": {
      "image/png": "[encoded data removed]",
      "text/plain": [
       "<Figure size 432x288 with 1 Axes>"
      ]
     },
     "metadata": {
      "needs_background": "light"
     },
     "output_type": "display_data"
    }
   ],
   "source": [
    "sns.boxplot(df['Attrition'], df['MonthlyIncome'], hue=df[\"Gender\"], order=[\"No\",\"Yes\"]) \n",
    "plt.legend(bbox_to_anchor=(1.25, 0.95))"
   ]
  },
  {
   "cell_type": "markdown",
   "metadata": {
    "id": "pNPfvBbxJRmG"
   },
   "source": [
    "<b> Análise: </b>\n",
    "    - A mediana do salário de quem sai é menor do que as que não saem.\n",
    "    - As pessoas saem do trabalho pois estão insatisfeitas com o salário. (Hipótese)\n",
    "    - A diferença salarial entre homens e mulheres não é significativa, aparentemente."
   ]
  },
  {
   "cell_type": "markdown",
   "metadata": {
    "id": "_DOko6_kJRmH"
   },
   "source": [
    "## E a satisfação com o ambiente de trabalho?\n",
    "EnvironmentSatisfaction 1 'Low' 2 'Medium' 3 'High' 4 'Very High'"
   ]
  },
  {
   "cell_type": "code",
   "execution_count": 16,
   "metadata": {
    "colab": {
     "base_uri": "https://localhost:8080/",
     "height": 307
    },
    "id": "i2xSi55EsJPA",
    "outputId": "44d089ca-04d4-468d-97d9-bc590632232f"
   },
   "outputs": [
    {
     "data": {
      "text/plain": [
       "<matplotlib.legend.Legend at 0x7f138aa7cee0>"
      ]
     },
     "execution_count": 16,
     "metadata": {},
     "output_type": "execute_result"
    },
    {
     "data": {
      "image/png": "[encoded data removed]",
      "text/plain": [
       "<Figure size 432x288 with 1 Axes>"
      ]
     },
     "metadata": {
      "needs_background": "light"
     },
     "output_type": "display_data"
    }
   ],
   "source": [
    "df.groupby(\"Attrition\")[\"EnvironmentSatisfaction\"].value_counts(normalize=True).unstack().plot(kind=\"bar\")\n",
    "plt.legend(loc=9)"
   ]
  },
  {
   "cell_type": "markdown",
   "metadata": {
    "id": "ULlr7PUiJRmP"
   },
   "source": [
    "<b> Análise: </b>\n",
    "    - Pessoas que estão insatisfeitas com o ambiente de trabalho são propensas a sairem do trabalho. (=1)\n",
    "    - Mais de 60% das pessoas que não saíram estão satisfeitas com ambiente de trabalho."
   ]
  },
  {
   "cell_type": "markdown",
   "metadata": {
    "id": "r6tOOyKDM-W0"
   },
   "source": [
    "## E a satisfação com o trabalho?\n",
    "\n",
    "JobSatisfaction 1 'Low' 2 'Medium' 3 'High' 4 'Very High'"
   ]
  },
  {
   "cell_type": "code",
   "execution_count": 23,
   "metadata": {
    "colab": {
     "base_uri": "https://localhost:8080/",
     "height": 307
    },
    "id": "9A1NhIdwsPpA",
    "outputId": "e0139b00-0c54-45e5-9a61-357e73701c87"
   },
   "outputs": [
    {
     "data": {
      "text/plain": [
       "<matplotlib.legend.Legend at 0x7f3ab5d69f10>"
      ]
     },
     "execution_count": 23,
     "metadata": {},
     "output_type": "execute_result"
    },
    {
     "data": {
      "image/png": "[encoded data removed]",
      "text/plain": [
       "<Figure size 432x288 with 1 Axes>"
      ]
     },
     "metadata": {
      "needs_background": "light"
     },
     "output_type": "display_data"
    }
   ],
   "source": [
    "df.groupby(\"Attrition\")[\"JobSatisfaction\"].value_counts(normalize=True).unstack().plot(kind=\"bar\")\n",
    "plt.legend(loc=9)"
   ]
  },
  {
   "cell_type": "markdown",
   "metadata": {
    "id": "2sRSY6AiylnM"
   },
   "source": [
    "<b> Análise </b>\n",
    "- Pessoas que estão insatifestas com o trabalho saem mais.\n",
    "- Pessoas que estão totatalmente satifesitas com o trabalho saem menos."
   ]
  },
  {
   "cell_type": "markdown",
   "metadata": {
    "id": "_ojiN-ecJRmP"
   },
   "source": [
    "## Elas trabalhavam na empresa há muito tempo?"
   ]
  },
  {
   "cell_type": "code",
   "execution_count": 24,
   "metadata": {
    "colab": {
     "base_uri": "https://localhost:8080/",
     "height": 300
    },
    "id": "VE5wa4LrJRmQ",
    "outputId": "5a76c924-2433-4ea4-c002-bce3320a5a45"
   },
   "outputs": [
    {
     "data": {
      "text/plain": [
       "<AxesSubplot:xlabel='Attrition', ylabel='TotalWorkingYears'>"
      ]
     },
     "execution_count": 24,
     "metadata": {},
     "output_type": "execute_result"
    },
    {
     "data": {
      "image/png": "[encoded data removed]",
      "text/plain": [
       "<Figure size 432x288 with 1 Axes>"
      ]
     },
     "metadata": {
      "needs_background": "light"
     },
     "output_type": "display_data"
    }
   ],
   "source": [
    "sns.boxplot(df['Attrition'], df['TotalWorkingYears'], order=[\"No\",\"Yes\"]) "
   ]
  },
  {
   "cell_type": "markdown",
   "metadata": {
    "id": "Ae00yZaHJRmT"
   },
   "source": [
    "<b> Análise: </b>\n",
    "    - As pessoas que saem do trabalho, em sua maioria, tem menos tempo de empresa"
   ]
  },
  {
   "cell_type": "markdown",
   "metadata": {
    "id": "LSZx09YmJRmU"
   },
   "source": [
    "## Trabalham além da carga horária?"
   ]
  },
  {
   "cell_type": "code",
   "execution_count": 25,
   "metadata": {
    "colab": {
     "base_uri": "https://localhost:8080/",
     "height": 307
    },
    "id": "0NY-pF1QJRmV",
    "outputId": "741e695f-444f-4163-a790-980657d25dd8"
   },
   "outputs": [
    {
     "data": {
      "text/plain": [
       "<AxesSubplot:xlabel='Attrition'>"
      ]
     },
     "execution_count": 25,
     "metadata": {},
     "output_type": "execute_result"
    },
    {
     "data": {
      "image/png": "[encoded data removed]",
      "text/plain": [
       "<Figure size 432x288 with 1 Axes>"
      ]
     },
     "metadata": {
      "needs_background": "light"
     },
     "output_type": "display_data"
    }
   ],
   "source": [
    "df.groupby(\"Attrition\")[\"OverTime\"].value_counts(normalize=True).unstack().plot(kind=\"bar\")"
   ]
  },
  {
   "cell_type": "markdown",
   "metadata": {
    "id": "lvbubWt-2PFg"
   },
   "source": [
    "- <b>Análise: </b> No grupo das pessoas que não sairam, a maior parte não faz hora extra. Diferente do grupo das que saem."
   ]
  },
  {
   "cell_type": "markdown",
   "metadata": {
    "id": "2k2UCEHROiby"
   },
   "source": [
    "### Das pessoas que trabalham, além da carga horária. Como é o nível de satisfação com o nível de trabalho delas?"
   ]
  },
  {
   "cell_type": "code",
   "execution_count": 26,
   "metadata": {
    "colab": {
     "base_uri": "https://localhost:8080/",
     "height": 307
    },
    "id": "RdJpgZoFvb2o",
    "outputId": "be07bfaa-1e95-4fd3-db5b-ba397c35e4fa"
   },
   "outputs": [
    {
     "data": {
      "text/plain": [
       "<matplotlib.legend.Legend at 0x7f3adf882280>"
      ]
     },
     "execution_count": 26,
     "metadata": {},
     "output_type": "execute_result"
    },
    {
     "data": {
      "image/png": "[encoded data removed]",
      "text/plain": [
       "<Figure size 432x288 with 1 Axes>"
      ]
     },
     "metadata": {
      "needs_background": "light"
     },
     "output_type": "display_data"
    }
   ],
   "source": [
    "df[df[\"OverTime\"] == \"Yes\"].groupby(\"Attrition\")[\"EnvironmentSatisfaction\"].value_counts(normalize=True).unstack().plot(kind=\"bar\")\n",
    "plt.legend(bbox_to_anchor=(0.5,0.4))"
   ]
  },
  {
   "cell_type": "markdown",
   "metadata": {
    "id": "v1pmRHMI0OkJ"
   },
   "source": [
    "<b>Análise: </b> \n",
    "\n",
    "- Das pessoas que fazem hora extra, a maioria está satisfeita com o ambiente de trabalho.\n",
    "- O percentual das pessoas insatisfeitas é maior no grupo que faz hora extra."
   ]
  },
  {
   "cell_type": "markdown",
   "metadata": {
    "id": "ZHKS6EzrJRmd"
   },
   "source": [
    "## Moravam perto do trabalho?"
   ]
  },
  {
   "cell_type": "code",
   "execution_count": 27,
   "metadata": {
    "colab": {
     "base_uri": "https://localhost:8080/",
     "height": 300
    },
    "id": "GXHvF04UJRme",
    "outputId": "710bf8b4-acf0-4685-dd3e-9c4acf2a69d0"
   },
   "outputs": [
    {
     "data": {
      "text/plain": [
       "<AxesSubplot:xlabel='Attrition', ylabel='DistanceFromHome'>"
      ]
     },
     "execution_count": 27,
     "metadata": {},
     "output_type": "execute_result"
    },
    {
     "data": {
      "image/png": "[encoded data removed]",
      "text/plain": [
       "<Figure size 432x288 with 1 Axes>"
      ]
     },
     "metadata": {
      "needs_background": "light"
     },
     "output_type": "display_data"
    }
   ],
   "source": [
    "sns.boxplot(x=\"Attrition\", y=\"DistanceFromHome\", data=df, order=[\"No\",\"Yes\"])"
   ]
  },
  {
   "cell_type": "markdown",
   "metadata": {
    "id": "naSYO9LUJRmj"
   },
   "source": [
    "<b> Análise: </b>\n",
    "    - Pessoas que moram mais longe do trabalho, são mais propensas a deixarem do trabalho."
   ]
  },
  {
   "cell_type": "markdown",
   "metadata": {
    "id": "N13aA8WeJRmr"
   },
   "source": [
    "## E qual o nível dessas pessoas?"
   ]
  },
  {
   "cell_type": "code",
   "execution_count": 28,
   "metadata": {
    "colab": {
     "base_uri": "https://localhost:8080/",
     "height": 307
    },
    "id": "OofTpwKxwATB",
    "outputId": "dfaa1393-54d0-4f70-e2d6-002b2f5278ad"
   },
   "outputs": [
    {
     "data": {
      "text/plain": [
       "<AxesSubplot:xlabel='Attrition'>"
      ]
     },
     "execution_count": 28,
     "metadata": {},
     "output_type": "execute_result"
    },
    {
     "data": {
      "image/png": "[encoded data removed]",
      "text/plain": [
       "<Figure size 432x288 with 1 Axes>"
      ]
     },
     "metadata": {
      "needs_background": "light"
     },
     "output_type": "display_data"
    }
   ],
   "source": [
    "df.groupby(\"Attrition\")[\"JobLevel\"].value_counts(normalize=True).unstack().plot(kind=\"bar\")\n",
    "#plt.legend(bbox_to_anchor=(0.5,0.4))"
   ]
  },
  {
   "cell_type": "markdown",
   "metadata": {
    "id": "y5n7bEWrJRmy"
   },
   "source": [
    "<b> Análise: </b>\n",
    "    - Pessoas mais \"junior\" são mais propensas a saírem do trabalho."
   ]
  },
  {
   "cell_type": "markdown",
   "metadata": {
    "id": "8hnQSmc8JRmy"
   },
   "source": [
    "## E o papel delas?"
   ]
  },
  {
   "cell_type": "code",
   "execution_count": 29,
   "metadata": {
    "colab": {
     "base_uri": "https://localhost:8080/",
     "height": 307
    },
    "id": "M5oz4S9_wHgN",
    "outputId": "29dfcfdb-29fa-4999-f1c9-bd05b6b8c8b6"
   },
   "outputs": [
    {
     "data": {
      "text/plain": [
       "<matplotlib.legend.Legend at 0x7f3adf74d400>"
      ]
     },
     "execution_count": 29,
     "metadata": {},
     "output_type": "execute_result"
    },
    {
     "data": {
      "image/png": "[encoded data removed]",
      "text/plain": [
       "<Figure size 432x288 with 1 Axes>"
      ]
     },
     "metadata": {
      "needs_background": "light"
     },
     "output_type": "display_data"
    }
   ],
   "source": [
    "df.groupby(\"Attrition\")[\"JobRole\"].value_counts(normalize=True).unstack().plot(kind=\"bar\")\n",
    "plt.legend(bbox_to_anchor=(1.55,0.8))"
   ]
  },
  {
   "cell_type": "markdown",
   "metadata": {},
   "source": [
    "### Quais papéis tem os maiores salários?"
   ]
  },
  {
   "cell_type": "code",
   "execution_count": 30,
   "metadata": {
    "colab": {
     "base_uri": "https://localhost:8080/",
     "height": 411
    },
    "id": "gbz0pQKSJRnA",
    "outputId": "4c905833-1a96-47b9-9025-ab542954e279"
   },
   "outputs": [
    {
     "data": {
      "text/plain": [
       "(array([0, 1, 2, 3, 4, 5, 6, 7, 8]),\n",
       " [Text(0, 0, 'Sales Executive'),\n",
       "  Text(1, 0, 'Research Scientist'),\n",
       "  Text(2, 0, 'Laboratory Technician'),\n",
       "  Text(3, 0, 'Manufacturing Director'),\n",
       "  Text(4, 0, 'Healthcare Representative'),\n",
       "  Text(5, 0, 'Manager'),\n",
       "  Text(6, 0, 'Sales Representative'),\n",
       "  Text(7, 0, 'Research Director'),\n",
       "  Text(8, 0, 'Human Resources')])"
      ]
     },
     "execution_count": 30,
     "metadata": {},
     "output_type": "execute_result"
    },
    {
     "data": {
      "image/png": "[encoded data removed]",
      "text/plain": [
       "<Figure size 432x288 with 1 Axes>"
      ]
     },
     "metadata": {
      "needs_background": "light"
     },
     "output_type": "display_data"
    }
   ],
   "source": [
    "sns.boxplot(df['JobRole'], df['MonthlyIncome']) \n",
    "plt.xticks(rotation=90)"
   ]
  },
  {
   "cell_type": "markdown",
   "metadata": {
    "id": "i1MbH3CEJRnE"
   },
   "source": [
    "<b> Análise: </b>\n",
    "\n",
    "    - Quem tem os maiores salários praticamente não sairam do trabalho. \n",
    "    - Laboratory Tecnician e Research Scientist tem mais saídas e possuiam os salários baixos\n",
    "    - Papéis relacionadas a vendas, foram os mais propensos a sair. (Representante de Vendas e Executivo de Vendas)"
   ]
  },
  {
   "cell_type": "markdown",
   "metadata": {
    "id": "tqQq1MuKJRnE"
   },
   "source": [
    "# Seleção de Features e Feature enginering"
   ]
  },
  {
   "cell_type": "markdown",
   "metadata": {
    "id": "JtmZiaEcJRnF"
   },
   "source": [
    "## Análise da correlação das features"
   ]
  },
  {
   "cell_type": "code",
   "execution_count": 31,
   "metadata": {
    "colab": {
     "base_uri": "https://localhost:8080/",
     "height": 749
    },
    "id": "xqDtifvjJRnG",
    "outputId": "bf82bf60-8157-4d51-f8d7-f5deac292cbf"
   },
   "outputs": [
    {
     "data": {
      "text/plain": [
       "<AxesSubplot:>"
      ]
     },
     "execution_count": 31,
     "metadata": {},
     "output_type": "execute_result"
    },
    {
     "data": {
      "image/png": "[encoded data removed]",
      "text/plain": [
       "<Figure size 1296x720 with 2 Axes>"
      ]
     },
     "metadata": {
      "needs_background": "light"
     },
     "output_type": "display_data"
    }
   ],
   "source": [
    "plt.figure(figsize=(18, 10))\n",
    "sns.heatmap(df.corr(), annot=True, cmap=\"Blues\")"
   ]
  },
  {
   "cell_type": "markdown",
   "metadata": {
    "id": "6YYy7TLZJRnT"
   },
   "source": [
    "### Reduzir dimensionalidade"
   ]
  },
  {
   "cell_type": "code",
   "execution_count": 18,
   "metadata": {
    "colab": {
     "base_uri": "https://localhost:8080/",
     "height": 34
    },
    "id": "3gIwPPKmTIJ_",
    "outputId": "0874ddb7-88a3-4e83-926e-d5e908bb8e6b"
   },
   "outputs": [
    {
     "data": {
      "text/plain": [
       "(1470, 35)"
      ]
     },
     "execution_count": 18,
     "metadata": {},
     "output_type": "execute_result"
    }
   ],
   "source": [
    "df.shape"
   ]
  },
  {
   "cell_type": "code",
   "execution_count": 19,
   "metadata": {
    "id": "o7cb6YlAJRnU"
   },
   "outputs": [],
   "source": [
    "colunas_reduzir = ['YearsAtCompany', 'YearsInCurrentRole','YearsSinceLastPromotion', 'YearsWithCurrManager']"
   ]
  },
  {
   "cell_type": "code",
   "execution_count": 23,
   "metadata": {
    "colab": {
     "base_uri": "https://localhost:8080/",
     "height": 34
    },
    "id": "VNqRBiLWJRnW",
    "outputId": "9155c5dc-4fba-4ede-8e11-927b619f6645"
   },
   "outputs": [
    {
     "name": "stdout",
     "output_type": "stream",
     "text": [
      "explained: [0.80556036]\n"
     ]
    }
   ],
   "source": [
    "pca = PCA(n_components=1)\n",
    "pca.fit(df[colunas_reduzir].values)\n",
    "print(\"explained: \"+ str(pca.explained_variance_ratio_))\n",
    "df[\"years_pca\"] = pca.transform(df[colunas_reduzir].values)\n",
    "df.drop(colunas_reduzir, axis=1, inplace=True)"
   ]
  },
  {
   "cell_type": "code",
   "execution_count": 24,
   "metadata": {
    "colab": {
     "base_uri": "https://localhost:8080/",
     "height": 34
    },
    "id": "-wDc272mJRnY",
    "outputId": "3a00db62-2dd9-4c3e-8fab-51d1df923126"
   },
   "outputs": [
    {
     "data": {
      "text/plain": [
       "(1470, 32)"
      ]
     },
     "execution_count": 24,
     "metadata": {},
     "output_type": "execute_result"
    }
   ],
   "source": [
    "df.shape"
   ]
  },
  {
   "cell_type": "markdown",
   "metadata": {
    "id": "Ba4aR_k1JRnh"
   },
   "source": [
    "## Criar grupos com uma feature"
   ]
  },
  {
   "cell_type": "code",
   "execution_count": 36,
   "metadata": {
    "colab": {
     "base_uri": "https://localhost:8080/",
     "height": 320
    },
    "id": "v5jL2fUdJRni",
    "outputId": "af708b79-a156-46ea-dd75-214223c48d97"
   },
   "outputs": [
    {
     "data": {
      "text/plain": [
       "(array([ 57., 105., 224., 265., 255., 217., 131.,  92.,  77.,  47.]),\n",
       " array([18. , 22.2, 26.4, 30.6, 34.8, 39. , 43.2, 47.4, 51.6, 55.8, 60. ]),\n",
       " <BarContainer object of 10 artists>)"
      ]
     },
     "execution_count": 36,
     "metadata": {},
     "output_type": "execute_result"
    },
    {
     "data": {
      "image/png": "[encoded data removed]",
      "text/plain": [
       "<Figure size 432x288 with 1 Axes>"
      ]
     },
     "metadata": {
      "needs_background": "light"
     },
     "output_type": "display_data"
    }
   ],
   "source": [
    "#Agrupar as idades\n",
    "plt.hist(df[\"Age\"])"
   ]
  },
  {
   "cell_type": "code",
   "execution_count": 25,
   "metadata": {
    "id": "uOl3XmjzJRnn"
   },
   "outputs": [],
   "source": [
    "# 18-24 = grupo1 , 25-45=grupo2 , >=46 grupo3\n",
    "df['age_range'] = pd.cut(df['Age'], [17, 24, 45, 120], labels=['18-24', '25-45', '46-60'])\n",
    "df.drop(['Age'],axis=1,inplace=True)"
   ]
  },
  {
   "cell_type": "code",
   "execution_count": 26,
   "metadata": {
    "colab": {
     "base_uri": "https://localhost:8080/",
     "height": 199
    },
    "id": "YWuZ9axhTQv_",
    "outputId": "37fb561d-f0b9-4785-e260-8248c065662e"
   },
   "outputs": [
    {
     "data": {
      "text/html": [
       "<div>\n",
       "<style scoped>\n",
       "    .dataframe tbody tr th:only-of-type {\n",
       "        vertical-align: middle;\n",
       "    }\n",
       "\n",
       "    .dataframe tbody tr th {\n",
       "        vertical-align: top;\n",
       "    }\n",
       "\n",
       "    .dataframe thead th {\n",
       "        text-align: right;\n",
       "    }\n",
       "</style>\n",
       "<table border=\"1\" class=\"dataframe\">\n",
       "  <thead>\n",
       "    <tr style=\"text-align: right;\">\n",
       "      <th></th>\n",
       "      <th>age_range</th>\n",
       "    </tr>\n",
       "  </thead>\n",
       "  <tbody>\n",
       "    <tr>\n",
       "      <th>0</th>\n",
       "      <td>25-45</td>\n",
       "    </tr>\n",
       "    <tr>\n",
       "      <th>1</th>\n",
       "      <td>46-60</td>\n",
       "    </tr>\n",
       "    <tr>\n",
       "      <th>2</th>\n",
       "      <td>25-45</td>\n",
       "    </tr>\n",
       "    <tr>\n",
       "      <th>3</th>\n",
       "      <td>25-45</td>\n",
       "    </tr>\n",
       "    <tr>\n",
       "      <th>4</th>\n",
       "      <td>25-45</td>\n",
       "    </tr>\n",
       "  </tbody>\n",
       "</table>\n",
       "</div>"
      ],
      "text/plain": [
       "  age_range\n",
       "0     25-45\n",
       "1     46-60\n",
       "2     25-45\n",
       "3     25-45\n",
       "4     25-45"
      ]
     },
     "execution_count": 26,
     "metadata": {},
     "output_type": "execute_result"
    }
   ],
   "source": [
    "df[[\"age_range\"]].head()"
   ]
  },
  {
   "cell_type": "code",
   "execution_count": 27,
   "metadata": {},
   "outputs": [
    {
     "data": {
      "text/plain": [
       "age_range\n",
       "25-45        1100\n",
       "46-60         273\n",
       "18-24          97\n",
       "dtype: int64"
      ]
     },
     "execution_count": 27,
     "metadata": {},
     "output_type": "execute_result"
    }
   ],
   "source": [
    "df[[\"age_range\"]].value_counts()"
   ]
  },
  {
   "cell_type": "code",
   "execution_count": 28,
   "metadata": {},
   "outputs": [
    {
     "data": {
      "text/plain": [
       "(1470, 32)"
      ]
     },
     "execution_count": 28,
     "metadata": {},
     "output_type": "execute_result"
    }
   ],
   "source": [
    "df.shape"
   ]
  },
  {
   "cell_type": "code",
   "execution_count": 40,
   "metadata": {},
   "outputs": [
    {
     "data": {
      "text/html": [
       "<div>\n",
       "<style scoped>\n",
       "    .dataframe tbody tr th:only-of-type {\n",
       "        vertical-align: middle;\n",
       "    }\n",
       "\n",
       "    .dataframe tbody tr th {\n",
       "        vertical-align: top;\n",
       "    }\n",
       "\n",
       "    .dataframe thead th {\n",
       "        text-align: right;\n",
       "    }\n",
       "</style>\n",
       "<table border=\"1\" class=\"dataframe\">\n",
       "  <thead>\n",
       "    <tr style=\"text-align: right;\">\n",
       "      <th></th>\n",
       "      <th>Attrition</th>\n",
       "      <th>BusinessTravel</th>\n",
       "      <th>DailyRate</th>\n",
       "      <th>Department</th>\n",
       "      <th>DistanceFromHome</th>\n",
       "      <th>Education</th>\n",
       "      <th>EducationField</th>\n",
       "      <th>EmployeeNumber</th>\n",
       "      <th>EnvironmentSatisfaction</th>\n",
       "      <th>Gender</th>\n",
       "      <th>...</th>\n",
       "      <th>OverTime</th>\n",
       "      <th>PercentSalaryHike</th>\n",
       "      <th>PerformanceRating</th>\n",
       "      <th>RelationshipSatisfaction</th>\n",
       "      <th>StockOptionLevel</th>\n",
       "      <th>TotalWorkingYears</th>\n",
       "      <th>TrainingTimesLastYear</th>\n",
       "      <th>WorkLifeBalance</th>\n",
       "      <th>years_pca</th>\n",
       "      <th>age_range</th>\n",
       "    </tr>\n",
       "  </thead>\n",
       "  <tbody>\n",
       "    <tr>\n",
       "      <th>0</th>\n",
       "      <td>Yes</td>\n",
       "      <td>Travel_Rarely</td>\n",
       "      <td>1102</td>\n",
       "      <td>Sales</td>\n",
       "      <td>1</td>\n",
       "      <td>2</td>\n",
       "      <td>Life Sciences</td>\n",
       "      <td>1</td>\n",
       "      <td>2</td>\n",
       "      <td>Female</td>\n",
       "      <td>...</td>\n",
       "      <td>Yes</td>\n",
       "      <td>11</td>\n",
       "      <td>3</td>\n",
       "      <td>1</td>\n",
       "      <td>0</td>\n",
       "      <td>8</td>\n",
       "      <td>0</td>\n",
       "      <td>1</td>\n",
       "      <td>-1.164875</td>\n",
       "      <td>25-45</td>\n",
       "    </tr>\n",
       "    <tr>\n",
       "      <th>1</th>\n",
       "      <td>No</td>\n",
       "      <td>Travel_Frequently</td>\n",
       "      <td>279</td>\n",
       "      <td>Research &amp; Development</td>\n",
       "      <td>8</td>\n",
       "      <td>1</td>\n",
       "      <td>Life Sciences</td>\n",
       "      <td>2</td>\n",
       "      <td>3</td>\n",
       "      <td>Male</td>\n",
       "      <td>...</td>\n",
       "      <td>No</td>\n",
       "      <td>23</td>\n",
       "      <td>4</td>\n",
       "      <td>4</td>\n",
       "      <td>1</td>\n",
       "      <td>10</td>\n",
       "      <td>3</td>\n",
       "      <td>3</td>\n",
       "      <td>4.212625</td>\n",
       "      <td>46-60</td>\n",
       "    </tr>\n",
       "    <tr>\n",
       "      <th>2</th>\n",
       "      <td>Yes</td>\n",
       "      <td>Travel_Rarely</td>\n",
       "      <td>1373</td>\n",
       "      <td>Research &amp; Development</td>\n",
       "      <td>2</td>\n",
       "      <td>2</td>\n",
       "      <td>Other</td>\n",
       "      <td>4</td>\n",
       "      <td>4</td>\n",
       "      <td>Male</td>\n",
       "      <td>...</td>\n",
       "      <td>Yes</td>\n",
       "      <td>15</td>\n",
       "      <td>3</td>\n",
       "      <td>2</td>\n",
       "      <td>0</td>\n",
       "      <td>7</td>\n",
       "      <td>3</td>\n",
       "      <td>3</td>\n",
       "      <td>-9.381817</td>\n",
       "      <td>25-45</td>\n",
       "    </tr>\n",
       "    <tr>\n",
       "      <th>3</th>\n",
       "      <td>No</td>\n",
       "      <td>Travel_Frequently</td>\n",
       "      <td>1392</td>\n",
       "      <td>Research &amp; Development</td>\n",
       "      <td>3</td>\n",
       "      <td>4</td>\n",
       "      <td>Life Sciences</td>\n",
       "      <td>5</td>\n",
       "      <td>4</td>\n",
       "      <td>Female</td>\n",
       "      <td>...</td>\n",
       "      <td>Yes</td>\n",
       "      <td>11</td>\n",
       "      <td>3</td>\n",
       "      <td>3</td>\n",
       "      <td>0</td>\n",
       "      <td>8</td>\n",
       "      <td>3</td>\n",
       "      <td>3</td>\n",
       "      <td>0.487735</td>\n",
       "      <td>25-45</td>\n",
       "    </tr>\n",
       "    <tr>\n",
       "      <th>4</th>\n",
       "      <td>No</td>\n",
       "      <td>Travel_Rarely</td>\n",
       "      <td>591</td>\n",
       "      <td>Research &amp; Development</td>\n",
       "      <td>2</td>\n",
       "      <td>1</td>\n",
       "      <td>Medical</td>\n",
       "      <td>7</td>\n",
       "      <td>1</td>\n",
       "      <td>Male</td>\n",
       "      <td>...</td>\n",
       "      <td>No</td>\n",
       "      <td>12</td>\n",
       "      <td>3</td>\n",
       "      <td>4</td>\n",
       "      <td>1</td>\n",
       "      <td>6</td>\n",
       "      <td>3</td>\n",
       "      <td>3</td>\n",
       "      <td>-5.660292</td>\n",
       "      <td>25-45</td>\n",
       "    </tr>\n",
       "  </tbody>\n",
       "</table>\n",
       "<p>5 rows × 29 columns</p>\n",
       "</div>"
      ],
      "text/plain": [
       "  Attrition     BusinessTravel  DailyRate              Department  \\\n",
       "0       Yes      Travel_Rarely       1102                   Sales   \n",
       "1        No  Travel_Frequently        279  Research & Development   \n",
       "2       Yes      Travel_Rarely       1373  Research & Development   \n",
       "3        No  Travel_Frequently       1392  Research & Development   \n",
       "4        No      Travel_Rarely        591  Research & Development   \n",
       "\n",
       "   DistanceFromHome  Education EducationField  EmployeeNumber  \\\n",
       "0                 1          2  Life Sciences               1   \n",
       "1                 8          1  Life Sciences               2   \n",
       "2                 2          2          Other               4   \n",
       "3                 3          4  Life Sciences               5   \n",
       "4                 2          1        Medical               7   \n",
       "\n",
       "   EnvironmentSatisfaction  Gender  ...  OverTime  PercentSalaryHike  \\\n",
       "0                        2  Female  ...       Yes                 11   \n",
       "1                        3    Male  ...        No                 23   \n",
       "2                        4    Male  ...       Yes                 15   \n",
       "3                        4  Female  ...       Yes                 11   \n",
       "4                        1    Male  ...        No                 12   \n",
       "\n",
       "   PerformanceRating RelationshipSatisfaction  StockOptionLevel  \\\n",
       "0                  3                        1                 0   \n",
       "1                  4                        4                 1   \n",
       "2                  3                        2                 0   \n",
       "3                  3                        3                 0   \n",
       "4                  3                        4                 1   \n",
       "\n",
       "  TotalWorkingYears  TrainingTimesLastYear  WorkLifeBalance  years_pca  \\\n",
       "0                 8                      0                1  -1.164875   \n",
       "1                10                      3                3   4.212625   \n",
       "2                 7                      3                3  -9.381817   \n",
       "3                 8                      3                3   0.487735   \n",
       "4                 6                      3                3  -5.660292   \n",
       "\n",
       "  age_range  \n",
       "0     25-45  \n",
       "1     46-60  \n",
       "2     25-45  \n",
       "3     25-45  \n",
       "4     25-45  \n",
       "\n",
       "[5 rows x 29 columns]"
      ]
     },
     "execution_count": 40,
     "metadata": {},
     "output_type": "execute_result"
    }
   ],
   "source": [
    "df.head()"
   ]
  },
  {
   "cell_type": "markdown",
   "metadata": {},
   "source": [
    "Poderíamos ter muita mais Feature Engineering..."
   ]
  },
  {
   "cell_type": "markdown",
   "metadata": {
    "id": "IMG9VCmPJRo7"
   },
   "source": [
    "# Modelo - classificação com pycaret"
   ]
  },
  {
   "cell_type": "markdown",
   "metadata": {},
   "source": [
    "## Pycaret\n",
    "\n",
    "Pycaret é uma biblioteca de Machine Learning (ML) que automatiza fluxos de trabalho. \n",
    "\n",
    "documentação: https://pycaret.org/classification/"
   ]
  },
  {
   "cell_type": "code",
   "execution_count": 54,
   "metadata": {},
   "outputs": [],
   "source": [
    "data = df.copy()"
   ]
  },
  {
   "cell_type": "code",
   "execution_count": 55,
   "metadata": {},
   "outputs": [
    {
     "data": {
      "text/plain": [
       "No     1233\n",
       "Yes     237\n",
       "Name: Attrition, dtype: int64"
      ]
     },
     "execution_count": 55,
     "metadata": {},
     "output_type": "execute_result"
    }
   ],
   "source": [
    "data[\"Attrition\"].value_counts()"
   ]
  },
  {
   "cell_type": "code",
   "execution_count": 56,
   "metadata": {},
   "outputs": [],
   "source": [
    "from pycaret.classification import *"
   ]
  },
  {
   "cell_type": "markdown",
   "metadata": {},
   "source": [
    "<b>setup:</b> Esta função inicializa o ambiente de treinamento e cria o pipeline de transformação. Ela deve ser chamada antes de executar qualquer outra função. Possui dois parâmetros obrigatórios: ``data`` e ``target``."
   ]
  },
  {
   "cell_type": "code",
   "execution_count": 57,
   "metadata": {},
   "outputs": [],
   "source": [
    "#categorical = list(df.select_dtypes(include=['object']).columns) + list(df.select_dtypes(include=['category']).columns)\n",
    "#numerics = list(set(df.columns) - set(categorical))\n",
    "#categorical.remove(\"Attrition\")"
   ]
  },
  {
   "cell_type": "code",
   "execution_count": 58,
   "metadata": {},
   "outputs": [],
   "source": [
    "setup?"
   ]
  },
  {
   "cell_type": "code",
   "execution_count": 77,
   "metadata": {
    "scrolled": true
   },
   "outputs": [
    {
     "data": {
      "text/html": [
       "<style  type=\"text/css\" >\n",
       "#T_c5a8e_row29_col1,#T_c5a8e_row57_col1{\n",
       "            background-color:  lightgreen;\n",
       "        }</style><table id=\"T_c5a8e_\" ><thead>    <tr>        <th class=\"blank level0\" ></th>        <th class=\"col_heading level0 col0\" >Description</th>        <th class=\"col_heading level0 col1\" >Value</th>    </tr></thead><tbody>\n",
       "                <tr>\n",
       "                        <th id=\"T_c5a8e_level0_row0\" class=\"row_heading level0 row0\" >0</th>\n",
       "                        <td id=\"T_c5a8e_row0_col0\" class=\"data row0 col0\" >session_id</td>\n",
       "                        <td id=\"T_c5a8e_row0_col1\" class=\"data row0 col1\" >123</td>\n",
       "            </tr>\n",
       "            <tr>\n",
       "                        <th id=\"T_c5a8e_level0_row1\" class=\"row_heading level0 row1\" >1</th>\n",
       "                        <td id=\"T_c5a8e_row1_col0\" class=\"data row1 col0\" >Target</td>\n",
       "                        <td id=\"T_c5a8e_row1_col1\" class=\"data row1 col1\" >Attrition</td>\n",
       "            </tr>\n",
       "            <tr>\n",
       "                        <th id=\"T_c5a8e_level0_row2\" class=\"row_heading level0 row2\" >2</th>\n",
       "                        <td id=\"T_c5a8e_row2_col0\" class=\"data row2 col0\" >Target Type</td>\n",
       "                        <td id=\"T_c5a8e_row2_col1\" class=\"data row2 col1\" >Binary</td>\n",
       "            </tr>\n",
       "            <tr>\n",
       "                        <th id=\"T_c5a8e_level0_row3\" class=\"row_heading level0 row3\" >3</th>\n",
       "                        <td id=\"T_c5a8e_row3_col0\" class=\"data row3 col0\" >Label Encoded</td>\n",
       "                        <td id=\"T_c5a8e_row3_col1\" class=\"data row3 col1\" >No: 0, Yes: 1</td>\n",
       "            </tr>\n",
       "            <tr>\n",
       "                        <th id=\"T_c5a8e_level0_row4\" class=\"row_heading level0 row4\" >4</th>\n",
       "                        <td id=\"T_c5a8e_row4_col0\" class=\"data row4 col0\" >Original Data</td>\n",
       "                        <td id=\"T_c5a8e_row4_col1\" class=\"data row4 col1\" >(1470, 32)</td>\n",
       "            </tr>\n",
       "            <tr>\n",
       "                        <th id=\"T_c5a8e_level0_row5\" class=\"row_heading level0 row5\" >5</th>\n",
       "                        <td id=\"T_c5a8e_row5_col0\" class=\"data row5 col0\" >Missing Values</td>\n",
       "                        <td id=\"T_c5a8e_row5_col1\" class=\"data row5 col1\" >False</td>\n",
       "            </tr>\n",
       "            <tr>\n",
       "                        <th id=\"T_c5a8e_level0_row6\" class=\"row_heading level0 row6\" >6</th>\n",
       "                        <td id=\"T_c5a8e_row6_col0\" class=\"data row6 col0\" >Numeric Features</td>\n",
       "                        <td id=\"T_c5a8e_row6_col1\" class=\"data row6 col1\" >8</td>\n",
       "            </tr>\n",
       "            <tr>\n",
       "                        <th id=\"T_c5a8e_level0_row7\" class=\"row_heading level0 row7\" >7</th>\n",
       "                        <td id=\"T_c5a8e_row7_col0\" class=\"data row7 col0\" >Categorical Features</td>\n",
       "                        <td id=\"T_c5a8e_row7_col1\" class=\"data row7 col1\" >23</td>\n",
       "            </tr>\n",
       "            <tr>\n",
       "                        <th id=\"T_c5a8e_level0_row8\" class=\"row_heading level0 row8\" >8</th>\n",
       "                        <td id=\"T_c5a8e_row8_col0\" class=\"data row8 col0\" >Ordinal Features</td>\n",
       "                        <td id=\"T_c5a8e_row8_col1\" class=\"data row8 col1\" >False</td>\n",
       "            </tr>\n",
       "            <tr>\n",
       "                        <th id=\"T_c5a8e_level0_row9\" class=\"row_heading level0 row9\" >9</th>\n",
       "                        <td id=\"T_c5a8e_row9_col0\" class=\"data row9 col0\" >High Cardinality Features</td>\n",
       "                        <td id=\"T_c5a8e_row9_col1\" class=\"data row9 col1\" >False</td>\n",
       "            </tr>\n",
       "            <tr>\n",
       "                        <th id=\"T_c5a8e_level0_row10\" class=\"row_heading level0 row10\" >10</th>\n",
       "                        <td id=\"T_c5a8e_row10_col0\" class=\"data row10 col0\" >High Cardinality Method</td>\n",
       "                        <td id=\"T_c5a8e_row10_col1\" class=\"data row10 col1\" >None</td>\n",
       "            </tr>\n",
       "            <tr>\n",
       "                        <th id=\"T_c5a8e_level0_row11\" class=\"row_heading level0 row11\" >11</th>\n",
       "                        <td id=\"T_c5a8e_row11_col0\" class=\"data row11 col0\" >Transformed Train Set</td>\n",
       "                        <td id=\"T_c5a8e_row11_col1\" class=\"data row11 col1\" >(1028, 107)</td>\n",
       "            </tr>\n",
       "            <tr>\n",
       "                        <th id=\"T_c5a8e_level0_row12\" class=\"row_heading level0 row12\" >12</th>\n",
       "                        <td id=\"T_c5a8e_row12_col0\" class=\"data row12 col0\" >Transformed Test Set</td>\n",
       "                        <td id=\"T_c5a8e_row12_col1\" class=\"data row12 col1\" >(442, 107)</td>\n",
       "            </tr>\n",
       "            <tr>\n",
       "                        <th id=\"T_c5a8e_level0_row13\" class=\"row_heading level0 row13\" >13</th>\n",
       "                        <td id=\"T_c5a8e_row13_col0\" class=\"data row13 col0\" >Shuffle Train-Test</td>\n",
       "                        <td id=\"T_c5a8e_row13_col1\" class=\"data row13 col1\" >True</td>\n",
       "            </tr>\n",
       "            <tr>\n",
       "                        <th id=\"T_c5a8e_level0_row14\" class=\"row_heading level0 row14\" >14</th>\n",
       "                        <td id=\"T_c5a8e_row14_col0\" class=\"data row14 col0\" >Stratify Train-Test</td>\n",
       "                        <td id=\"T_c5a8e_row14_col1\" class=\"data row14 col1\" >False</td>\n",
       "            </tr>\n",
       "            <tr>\n",
       "                        <th id=\"T_c5a8e_level0_row15\" class=\"row_heading level0 row15\" >15</th>\n",
       "                        <td id=\"T_c5a8e_row15_col0\" class=\"data row15 col0\" >Fold Generator</td>\n",
       "                        <td id=\"T_c5a8e_row15_col1\" class=\"data row15 col1\" >StratifiedKFold</td>\n",
       "            </tr>\n",
       "            <tr>\n",
       "                        <th id=\"T_c5a8e_level0_row16\" class=\"row_heading level0 row16\" >16</th>\n",
       "                        <td id=\"T_c5a8e_row16_col0\" class=\"data row16 col0\" >Fold Number</td>\n",
       "                        <td id=\"T_c5a8e_row16_col1\" class=\"data row16 col1\" >5</td>\n",
       "            </tr>\n",
       "            <tr>\n",
       "                        <th id=\"T_c5a8e_level0_row17\" class=\"row_heading level0 row17\" >17</th>\n",
       "                        <td id=\"T_c5a8e_row17_col0\" class=\"data row17 col0\" >CPU Jobs</td>\n",
       "                        <td id=\"T_c5a8e_row17_col1\" class=\"data row17 col1\" >-1</td>\n",
       "            </tr>\n",
       "            <tr>\n",
       "                        <th id=\"T_c5a8e_level0_row18\" class=\"row_heading level0 row18\" >18</th>\n",
       "                        <td id=\"T_c5a8e_row18_col0\" class=\"data row18 col0\" >Use GPU</td>\n",
       "                        <td id=\"T_c5a8e_row18_col1\" class=\"data row18 col1\" >False</td>\n",
       "            </tr>\n",
       "            <tr>\n",
       "                        <th id=\"T_c5a8e_level0_row19\" class=\"row_heading level0 row19\" >19</th>\n",
       "                        <td id=\"T_c5a8e_row19_col0\" class=\"data row19 col0\" >Log Experiment</td>\n",
       "                        <td id=\"T_c5a8e_row19_col1\" class=\"data row19 col1\" >False</td>\n",
       "            </tr>\n",
       "            <tr>\n",
       "                        <th id=\"T_c5a8e_level0_row20\" class=\"row_heading level0 row20\" >20</th>\n",
       "                        <td id=\"T_c5a8e_row20_col0\" class=\"data row20 col0\" >Experiment Name</td>\n",
       "                        <td id=\"T_c5a8e_row20_col1\" class=\"data row20 col1\" >clf-default-name</td>\n",
       "            </tr>\n",
       "            <tr>\n",
       "                        <th id=\"T_c5a8e_level0_row21\" class=\"row_heading level0 row21\" >21</th>\n",
       "                        <td id=\"T_c5a8e_row21_col0\" class=\"data row21 col0\" >USI</td>\n",
       "                        <td id=\"T_c5a8e_row21_col1\" class=\"data row21 col1\" >e574</td>\n",
       "            </tr>\n",
       "            <tr>\n",
       "                        <th id=\"T_c5a8e_level0_row22\" class=\"row_heading level0 row22\" >22</th>\n",
       "                        <td id=\"T_c5a8e_row22_col0\" class=\"data row22 col0\" >Imputation Type</td>\n",
       "                        <td id=\"T_c5a8e_row22_col1\" class=\"data row22 col1\" >simple</td>\n",
       "            </tr>\n",
       "            <tr>\n",
       "                        <th id=\"T_c5a8e_level0_row23\" class=\"row_heading level0 row23\" >23</th>\n",
       "                        <td id=\"T_c5a8e_row23_col0\" class=\"data row23 col0\" >Iterative Imputation Iteration</td>\n",
       "                        <td id=\"T_c5a8e_row23_col1\" class=\"data row23 col1\" >None</td>\n",
       "            </tr>\n",
       "            <tr>\n",
       "                        <th id=\"T_c5a8e_level0_row24\" class=\"row_heading level0 row24\" >24</th>\n",
       "                        <td id=\"T_c5a8e_row24_col0\" class=\"data row24 col0\" >Numeric Imputer</td>\n",
       "                        <td id=\"T_c5a8e_row24_col1\" class=\"data row24 col1\" >mean</td>\n",
       "            </tr>\n",
       "            <tr>\n",
       "                        <th id=\"T_c5a8e_level0_row25\" class=\"row_heading level0 row25\" >25</th>\n",
       "                        <td id=\"T_c5a8e_row25_col0\" class=\"data row25 col0\" >Iterative Imputation Numeric Model</td>\n",
       "                        <td id=\"T_c5a8e_row25_col1\" class=\"data row25 col1\" >None</td>\n",
       "            </tr>\n",
       "            <tr>\n",
       "                        <th id=\"T_c5a8e_level0_row26\" class=\"row_heading level0 row26\" >26</th>\n",
       "                        <td id=\"T_c5a8e_row26_col0\" class=\"data row26 col0\" >Categorical Imputer</td>\n",
       "                        <td id=\"T_c5a8e_row26_col1\" class=\"data row26 col1\" >constant</td>\n",
       "            </tr>\n",
       "            <tr>\n",
       "                        <th id=\"T_c5a8e_level0_row27\" class=\"row_heading level0 row27\" >27</th>\n",
       "                        <td id=\"T_c5a8e_row27_col0\" class=\"data row27 col0\" >Iterative Imputation Categorical Model</td>\n",
       "                        <td id=\"T_c5a8e_row27_col1\" class=\"data row27 col1\" >None</td>\n",
       "            </tr>\n",
       "            <tr>\n",
       "                        <th id=\"T_c5a8e_level0_row28\" class=\"row_heading level0 row28\" >28</th>\n",
       "                        <td id=\"T_c5a8e_row28_col0\" class=\"data row28 col0\" >Unknown Categoricals Handling</td>\n",
       "                        <td id=\"T_c5a8e_row28_col1\" class=\"data row28 col1\" >least_frequent</td>\n",
       "            </tr>\n",
       "            <tr>\n",
       "                        <th id=\"T_c5a8e_level0_row29\" class=\"row_heading level0 row29\" >29</th>\n",
       "                        <td id=\"T_c5a8e_row29_col0\" class=\"data row29 col0\" >Normalize</td>\n",
       "                        <td id=\"T_c5a8e_row29_col1\" class=\"data row29 col1\" >True</td>\n",
       "            </tr>\n",
       "            <tr>\n",
       "                        <th id=\"T_c5a8e_level0_row30\" class=\"row_heading level0 row30\" >30</th>\n",
       "                        <td id=\"T_c5a8e_row30_col0\" class=\"data row30 col0\" >Normalize Method</td>\n",
       "                        <td id=\"T_c5a8e_row30_col1\" class=\"data row30 col1\" >zscore</td>\n",
       "            </tr>\n",
       "            <tr>\n",
       "                        <th id=\"T_c5a8e_level0_row31\" class=\"row_heading level0 row31\" >31</th>\n",
       "                        <td id=\"T_c5a8e_row31_col0\" class=\"data row31 col0\" >Transformation</td>\n",
       "                        <td id=\"T_c5a8e_row31_col1\" class=\"data row31 col1\" >False</td>\n",
       "            </tr>\n",
       "            <tr>\n",
       "                        <th id=\"T_c5a8e_level0_row32\" class=\"row_heading level0 row32\" >32</th>\n",
       "                        <td id=\"T_c5a8e_row32_col0\" class=\"data row32 col0\" >Transformation Method</td>\n",
       "                        <td id=\"T_c5a8e_row32_col1\" class=\"data row32 col1\" >None</td>\n",
       "            </tr>\n",
       "            <tr>\n",
       "                        <th id=\"T_c5a8e_level0_row33\" class=\"row_heading level0 row33\" >33</th>\n",
       "                        <td id=\"T_c5a8e_row33_col0\" class=\"data row33 col0\" >PCA</td>\n",
       "                        <td id=\"T_c5a8e_row33_col1\" class=\"data row33 col1\" >False</td>\n",
       "            </tr>\n",
       "            <tr>\n",
       "                        <th id=\"T_c5a8e_level0_row34\" class=\"row_heading level0 row34\" >34</th>\n",
       "                        <td id=\"T_c5a8e_row34_col0\" class=\"data row34 col0\" >PCA Method</td>\n",
       "                        <td id=\"T_c5a8e_row34_col1\" class=\"data row34 col1\" >None</td>\n",
       "            </tr>\n",
       "            <tr>\n",
       "                        <th id=\"T_c5a8e_level0_row35\" class=\"row_heading level0 row35\" >35</th>\n",
       "                        <td id=\"T_c5a8e_row35_col0\" class=\"data row35 col0\" >PCA Components</td>\n",
       "                        <td id=\"T_c5a8e_row35_col1\" class=\"data row35 col1\" >None</td>\n",
       "            </tr>\n",
       "            <tr>\n",
       "                        <th id=\"T_c5a8e_level0_row36\" class=\"row_heading level0 row36\" >36</th>\n",
       "                        <td id=\"T_c5a8e_row36_col0\" class=\"data row36 col0\" >Ignore Low Variance</td>\n",
       "                        <td id=\"T_c5a8e_row36_col1\" class=\"data row36 col1\" >False</td>\n",
       "            </tr>\n",
       "            <tr>\n",
       "                        <th id=\"T_c5a8e_level0_row37\" class=\"row_heading level0 row37\" >37</th>\n",
       "                        <td id=\"T_c5a8e_row37_col0\" class=\"data row37 col0\" >Combine Rare Levels</td>\n",
       "                        <td id=\"T_c5a8e_row37_col1\" class=\"data row37 col1\" >False</td>\n",
       "            </tr>\n",
       "            <tr>\n",
       "                        <th id=\"T_c5a8e_level0_row38\" class=\"row_heading level0 row38\" >38</th>\n",
       "                        <td id=\"T_c5a8e_row38_col0\" class=\"data row38 col0\" >Rare Level Threshold</td>\n",
       "                        <td id=\"T_c5a8e_row38_col1\" class=\"data row38 col1\" >None</td>\n",
       "            </tr>\n",
       "            <tr>\n",
       "                        <th id=\"T_c5a8e_level0_row39\" class=\"row_heading level0 row39\" >39</th>\n",
       "                        <td id=\"T_c5a8e_row39_col0\" class=\"data row39 col0\" >Numeric Binning</td>\n",
       "                        <td id=\"T_c5a8e_row39_col1\" class=\"data row39 col1\" >False</td>\n",
       "            </tr>\n",
       "            <tr>\n",
       "                        <th id=\"T_c5a8e_level0_row40\" class=\"row_heading level0 row40\" >40</th>\n",
       "                        <td id=\"T_c5a8e_row40_col0\" class=\"data row40 col0\" >Remove Outliers</td>\n",
       "                        <td id=\"T_c5a8e_row40_col1\" class=\"data row40 col1\" >False</td>\n",
       "            </tr>\n",
       "            <tr>\n",
       "                        <th id=\"T_c5a8e_level0_row41\" class=\"row_heading level0 row41\" >41</th>\n",
       "                        <td id=\"T_c5a8e_row41_col0\" class=\"data row41 col0\" >Outliers Threshold</td>\n",
       "                        <td id=\"T_c5a8e_row41_col1\" class=\"data row41 col1\" >None</td>\n",
       "            </tr>\n",
       "            <tr>\n",
       "                        <th id=\"T_c5a8e_level0_row42\" class=\"row_heading level0 row42\" >42</th>\n",
       "                        <td id=\"T_c5a8e_row42_col0\" class=\"data row42 col0\" >Remove Multicollinearity</td>\n",
       "                        <td id=\"T_c5a8e_row42_col1\" class=\"data row42 col1\" >False</td>\n",
       "            </tr>\n",
       "            <tr>\n",
       "                        <th id=\"T_c5a8e_level0_row43\" class=\"row_heading level0 row43\" >43</th>\n",
       "                        <td id=\"T_c5a8e_row43_col0\" class=\"data row43 col0\" >Multicollinearity Threshold</td>\n",
       "                        <td id=\"T_c5a8e_row43_col1\" class=\"data row43 col1\" >None</td>\n",
       "            </tr>\n",
       "            <tr>\n",
       "                        <th id=\"T_c5a8e_level0_row44\" class=\"row_heading level0 row44\" >44</th>\n",
       "                        <td id=\"T_c5a8e_row44_col0\" class=\"data row44 col0\" >Clustering</td>\n",
       "                        <td id=\"T_c5a8e_row44_col1\" class=\"data row44 col1\" >False</td>\n",
       "            </tr>\n",
       "            <tr>\n",
       "                        <th id=\"T_c5a8e_level0_row45\" class=\"row_heading level0 row45\" >45</th>\n",
       "                        <td id=\"T_c5a8e_row45_col0\" class=\"data row45 col0\" >Clustering Iteration</td>\n",
       "                        <td id=\"T_c5a8e_row45_col1\" class=\"data row45 col1\" >None</td>\n",
       "            </tr>\n",
       "            <tr>\n",
       "                        <th id=\"T_c5a8e_level0_row46\" class=\"row_heading level0 row46\" >46</th>\n",
       "                        <td id=\"T_c5a8e_row46_col0\" class=\"data row46 col0\" >Polynomial Features</td>\n",
       "                        <td id=\"T_c5a8e_row46_col1\" class=\"data row46 col1\" >False</td>\n",
       "            </tr>\n",
       "            <tr>\n",
       "                        <th id=\"T_c5a8e_level0_row47\" class=\"row_heading level0 row47\" >47</th>\n",
       "                        <td id=\"T_c5a8e_row47_col0\" class=\"data row47 col0\" >Polynomial Degree</td>\n",
       "                        <td id=\"T_c5a8e_row47_col1\" class=\"data row47 col1\" >None</td>\n",
       "            </tr>\n",
       "            <tr>\n",
       "                        <th id=\"T_c5a8e_level0_row48\" class=\"row_heading level0 row48\" >48</th>\n",
       "                        <td id=\"T_c5a8e_row48_col0\" class=\"data row48 col0\" >Trignometry Features</td>\n",
       "                        <td id=\"T_c5a8e_row48_col1\" class=\"data row48 col1\" >False</td>\n",
       "            </tr>\n",
       "            <tr>\n",
       "                        <th id=\"T_c5a8e_level0_row49\" class=\"row_heading level0 row49\" >49</th>\n",
       "                        <td id=\"T_c5a8e_row49_col0\" class=\"data row49 col0\" >Polynomial Threshold</td>\n",
       "                        <td id=\"T_c5a8e_row49_col1\" class=\"data row49 col1\" >None</td>\n",
       "            </tr>\n",
       "            <tr>\n",
       "                        <th id=\"T_c5a8e_level0_row50\" class=\"row_heading level0 row50\" >50</th>\n",
       "                        <td id=\"T_c5a8e_row50_col0\" class=\"data row50 col0\" >Group Features</td>\n",
       "                        <td id=\"T_c5a8e_row50_col1\" class=\"data row50 col1\" >False</td>\n",
       "            </tr>\n",
       "            <tr>\n",
       "                        <th id=\"T_c5a8e_level0_row51\" class=\"row_heading level0 row51\" >51</th>\n",
       "                        <td id=\"T_c5a8e_row51_col0\" class=\"data row51 col0\" >Feature Selection</td>\n",
       "                        <td id=\"T_c5a8e_row51_col1\" class=\"data row51 col1\" >False</td>\n",
       "            </tr>\n",
       "            <tr>\n",
       "                        <th id=\"T_c5a8e_level0_row52\" class=\"row_heading level0 row52\" >52</th>\n",
       "                        <td id=\"T_c5a8e_row52_col0\" class=\"data row52 col0\" >Feature Selection Method</td>\n",
       "                        <td id=\"T_c5a8e_row52_col1\" class=\"data row52 col1\" >classic</td>\n",
       "            </tr>\n",
       "            <tr>\n",
       "                        <th id=\"T_c5a8e_level0_row53\" class=\"row_heading level0 row53\" >53</th>\n",
       "                        <td id=\"T_c5a8e_row53_col0\" class=\"data row53 col0\" >Features Selection Threshold</td>\n",
       "                        <td id=\"T_c5a8e_row53_col1\" class=\"data row53 col1\" >None</td>\n",
       "            </tr>\n",
       "            <tr>\n",
       "                        <th id=\"T_c5a8e_level0_row54\" class=\"row_heading level0 row54\" >54</th>\n",
       "                        <td id=\"T_c5a8e_row54_col0\" class=\"data row54 col0\" >Feature Interaction</td>\n",
       "                        <td id=\"T_c5a8e_row54_col1\" class=\"data row54 col1\" >False</td>\n",
       "            </tr>\n",
       "            <tr>\n",
       "                        <th id=\"T_c5a8e_level0_row55\" class=\"row_heading level0 row55\" >55</th>\n",
       "                        <td id=\"T_c5a8e_row55_col0\" class=\"data row55 col0\" >Feature Ratio</td>\n",
       "                        <td id=\"T_c5a8e_row55_col1\" class=\"data row55 col1\" >False</td>\n",
       "            </tr>\n",
       "            <tr>\n",
       "                        <th id=\"T_c5a8e_level0_row56\" class=\"row_heading level0 row56\" >56</th>\n",
       "                        <td id=\"T_c5a8e_row56_col0\" class=\"data row56 col0\" >Interaction Threshold</td>\n",
       "                        <td id=\"T_c5a8e_row56_col1\" class=\"data row56 col1\" >None</td>\n",
       "            </tr>\n",
       "            <tr>\n",
       "                        <th id=\"T_c5a8e_level0_row57\" class=\"row_heading level0 row57\" >57</th>\n",
       "                        <td id=\"T_c5a8e_row57_col0\" class=\"data row57 col0\" >Fix Imbalance</td>\n",
       "                        <td id=\"T_c5a8e_row57_col1\" class=\"data row57 col1\" >True</td>\n",
       "            </tr>\n",
       "            <tr>\n",
       "                        <th id=\"T_c5a8e_level0_row58\" class=\"row_heading level0 row58\" >58</th>\n",
       "                        <td id=\"T_c5a8e_row58_col0\" class=\"data row58 col0\" >Fix Imbalance Method</td>\n",
       "                        <td id=\"T_c5a8e_row58_col1\" class=\"data row58 col1\" >SMOTE</td>\n",
       "            </tr>\n",
       "    </tbody></table>"
      ],
      "text/plain": [
       "<pandas.io.formats.style.Styler at 0x7f138ad14160>"
      ]
     },
     "metadata": {},
     "output_type": "display_data"
    }
   ],
   "source": [
    "pycaret_config = setup(data = data, \n",
    "                              target = 'Attrition', \n",
    "                              fix_imbalance=True,\n",
    "                              fold=5,\n",
    "                              normalize=True, \n",
    "                              session_id=123)"
   ]
  },
  {
   "cell_type": "markdown",
   "metadata": {},
   "source": [
    "<b> compare_models </b>: Esta função treina e avalia o desempenho de todos os modelos disponíveis na biblioteca de modelos usando validação cruzada (Cross Validation)"
   ]
  },
  {
   "cell_type": "markdown",
   "metadata": {},
   "source": [
    "Explicação Validação Cruzada\n",
    "<img src=\"../img/kfold.png\" width=500/>"
   ]
  },
  {
   "cell_type": "code",
   "execution_count": 78,
   "metadata": {},
   "outputs": [
    {
     "data": {
      "text/html": [
       "<style  type=\"text/css\" >\n",
       "    #T_01e3d_ th {\n",
       "          text-align: left;\n",
       "    }#T_01e3d_row0_col0,#T_01e3d_row0_col3,#T_01e3d_row0_col4,#T_01e3d_row0_col5,#T_01e3d_row0_col6,#T_01e3d_row1_col0,#T_01e3d_row1_col2,#T_01e3d_row1_col3,#T_01e3d_row1_col5,#T_01e3d_row1_col6,#T_01e3d_row1_col7,#T_01e3d_row2_col0,#T_01e3d_row2_col1,#T_01e3d_row2_col2,#T_01e3d_row2_col3,#T_01e3d_row2_col4,#T_01e3d_row2_col5,#T_01e3d_row2_col6,#T_01e3d_row2_col7,#T_01e3d_row3_col0,#T_01e3d_row3_col1,#T_01e3d_row3_col2,#T_01e3d_row3_col3,#T_01e3d_row3_col4,#T_01e3d_row3_col5,#T_01e3d_row3_col6,#T_01e3d_row3_col7,#T_01e3d_row4_col0,#T_01e3d_row4_col1,#T_01e3d_row4_col2,#T_01e3d_row4_col3,#T_01e3d_row4_col4,#T_01e3d_row4_col5,#T_01e3d_row4_col6,#T_01e3d_row4_col7,#T_01e3d_row5_col0,#T_01e3d_row5_col1,#T_01e3d_row5_col2,#T_01e3d_row5_col3,#T_01e3d_row5_col4,#T_01e3d_row5_col5,#T_01e3d_row5_col7,#T_01e3d_row6_col0,#T_01e3d_row6_col1,#T_01e3d_row6_col2,#T_01e3d_row6_col3,#T_01e3d_row6_col4,#T_01e3d_row6_col5,#T_01e3d_row6_col6,#T_01e3d_row6_col7,#T_01e3d_row7_col0,#T_01e3d_row7_col1,#T_01e3d_row7_col2,#T_01e3d_row7_col3,#T_01e3d_row7_col4,#T_01e3d_row7_col5,#T_01e3d_row7_col6,#T_01e3d_row7_col7,#T_01e3d_row8_col0,#T_01e3d_row8_col1,#T_01e3d_row8_col2,#T_01e3d_row8_col3,#T_01e3d_row8_col4,#T_01e3d_row8_col5,#T_01e3d_row8_col6,#T_01e3d_row8_col7,#T_01e3d_row9_col0,#T_01e3d_row9_col1,#T_01e3d_row9_col2,#T_01e3d_row9_col3,#T_01e3d_row9_col4,#T_01e3d_row9_col6,#T_01e3d_row9_col7,#T_01e3d_row10_col0,#T_01e3d_row10_col1,#T_01e3d_row10_col2,#T_01e3d_row10_col3,#T_01e3d_row10_col4,#T_01e3d_row10_col5,#T_01e3d_row10_col6,#T_01e3d_row10_col7,#T_01e3d_row11_col0,#T_01e3d_row11_col1,#T_01e3d_row11_col2,#T_01e3d_row11_col3,#T_01e3d_row11_col4,#T_01e3d_row11_col5,#T_01e3d_row11_col6,#T_01e3d_row11_col7,#T_01e3d_row12_col0,#T_01e3d_row12_col1,#T_01e3d_row12_col2,#T_01e3d_row12_col3,#T_01e3d_row12_col4,#T_01e3d_row12_col5,#T_01e3d_row12_col6,#T_01e3d_row12_col7,#T_01e3d_row13_col0,#T_01e3d_row13_col1,#T_01e3d_row13_col2,#T_01e3d_row13_col3,#T_01e3d_row13_col4,#T_01e3d_row13_col5,#T_01e3d_row13_col6,#T_01e3d_row13_col7,#T_01e3d_row14_col0,#T_01e3d_row14_col1,#T_01e3d_row14_col2,#T_01e3d_row14_col3,#T_01e3d_row14_col4,#T_01e3d_row14_col5,#T_01e3d_row14_col6,#T_01e3d_row14_col7,#T_01e3d_row15_col0,#T_01e3d_row15_col1,#T_01e3d_row15_col2,#T_01e3d_row15_col4,#T_01e3d_row15_col5,#T_01e3d_row15_col6,#T_01e3d_row15_col7{\n",
       "            text-align:  left;\n",
       "            text-align:  left;\n",
       "        }#T_01e3d_row0_col1,#T_01e3d_row0_col2,#T_01e3d_row0_col7,#T_01e3d_row1_col1,#T_01e3d_row1_col4,#T_01e3d_row5_col6,#T_01e3d_row9_col5,#T_01e3d_row15_col3{\n",
       "            text-align:  left;\n",
       "            text-align:  left;\n",
       "            background-color:  yellow;\n",
       "        }#T_01e3d_row0_col8,#T_01e3d_row1_col8,#T_01e3d_row2_col8,#T_01e3d_row3_col8,#T_01e3d_row4_col8,#T_01e3d_row5_col8,#T_01e3d_row6_col8,#T_01e3d_row7_col8,#T_01e3d_row8_col8,#T_01e3d_row10_col8,#T_01e3d_row11_col8,#T_01e3d_row12_col8,#T_01e3d_row13_col8,#T_01e3d_row14_col8,#T_01e3d_row15_col8{\n",
       "            text-align:  left;\n",
       "            text-align:  left;\n",
       "            background-color:  lightgrey;\n",
       "        }#T_01e3d_row9_col8{\n",
       "            text-align:  left;\n",
       "            text-align:  left;\n",
       "            background-color:  yellow;\n",
       "            background-color:  lightgrey;\n",
       "        }</style><table id=\"T_01e3d_\" ><thead>    <tr>        <th class=\"blank level0\" ></th>        <th class=\"col_heading level0 col0\" >Model</th>        <th class=\"col_heading level0 col1\" >Accuracy</th>        <th class=\"col_heading level0 col2\" >AUC</th>        <th class=\"col_heading level0 col3\" >Recall</th>        <th class=\"col_heading level0 col4\" >Prec.</th>        <th class=\"col_heading level0 col5\" >F1</th>        <th class=\"col_heading level0 col6\" >Kappa</th>        <th class=\"col_heading level0 col7\" >MCC</th>        <th class=\"col_heading level0 col8\" >TT (Sec)</th>    </tr></thead><tbody>\n",
       "                <tr>\n",
       "                        <th id=\"T_01e3d_level0_row0\" class=\"row_heading level0 row0\" >gbc</th>\n",
       "                        <td id=\"T_01e3d_row0_col0\" class=\"data row0 col0\" >Gradient Boosting Classifier</td>\n",
       "                        <td id=\"T_01e3d_row0_col1\" class=\"data row0 col1\" >0.8502</td>\n",
       "                        <td id=\"T_01e3d_row0_col2\" class=\"data row0 col2\" >0.8029</td>\n",
       "                        <td id=\"T_01e3d_row0_col3\" class=\"data row0 col3\" >0.3500</td>\n",
       "                        <td id=\"T_01e3d_row0_col4\" class=\"data row0 col4\" >0.6440</td>\n",
       "                        <td id=\"T_01e3d_row0_col5\" class=\"data row0 col5\" >0.4476</td>\n",
       "                        <td id=\"T_01e3d_row0_col6\" class=\"data row0 col6\" >0.3702</td>\n",
       "                        <td id=\"T_01e3d_row0_col7\" class=\"data row0 col7\" >0.3961</td>\n",
       "                        <td id=\"T_01e3d_row0_col8\" class=\"data row0 col8\" >0.3600</td>\n",
       "            </tr>\n",
       "            <tr>\n",
       "                        <th id=\"T_01e3d_level0_row1\" class=\"row_heading level0 row1\" >et</th>\n",
       "                        <td id=\"T_01e3d_row1_col0\" class=\"data row1 col0\" >Extra Trees Classifier</td>\n",
       "                        <td id=\"T_01e3d_row1_col1\" class=\"data row1 col1\" >0.8502</td>\n",
       "                        <td id=\"T_01e3d_row1_col2\" class=\"data row1 col2\" >0.7833</td>\n",
       "                        <td id=\"T_01e3d_row1_col3\" class=\"data row1 col3\" >0.2389</td>\n",
       "                        <td id=\"T_01e3d_row1_col4\" class=\"data row1 col4\" >0.7625</td>\n",
       "                        <td id=\"T_01e3d_row1_col5\" class=\"data row1 col5\" >0.3575</td>\n",
       "                        <td id=\"T_01e3d_row1_col6\" class=\"data row1 col6\" >0.2969</td>\n",
       "                        <td id=\"T_01e3d_row1_col7\" class=\"data row1 col7\" >0.3647</td>\n",
       "                        <td id=\"T_01e3d_row1_col8\" class=\"data row1 col8\" >0.1780</td>\n",
       "            </tr>\n",
       "            <tr>\n",
       "                        <th id=\"T_01e3d_level0_row2\" class=\"row_heading level0 row2\" >rf</th>\n",
       "                        <td id=\"T_01e3d_row2_col0\" class=\"data row2 col0\" >Random Forest Classifier</td>\n",
       "                        <td id=\"T_01e3d_row2_col1\" class=\"data row2 col1\" >0.8463</td>\n",
       "                        <td id=\"T_01e3d_row2_col2\" class=\"data row2 col2\" >0.7919</td>\n",
       "                        <td id=\"T_01e3d_row2_col3\" class=\"data row2 col3\" >0.1944</td>\n",
       "                        <td id=\"T_01e3d_row2_col4\" class=\"data row2 col4\" >0.7512</td>\n",
       "                        <td id=\"T_01e3d_row2_col5\" class=\"data row2 col5\" >0.3046</td>\n",
       "                        <td id=\"T_01e3d_row2_col6\" class=\"data row2 col6\" >0.2506</td>\n",
       "                        <td id=\"T_01e3d_row2_col7\" class=\"data row2 col7\" >0.3254</td>\n",
       "                        <td id=\"T_01e3d_row2_col8\" class=\"data row2 col8\" >0.2240</td>\n",
       "            </tr>\n",
       "            <tr>\n",
       "                        <th id=\"T_01e3d_level0_row3\" class=\"row_heading level0 row3\" >lightgbm</th>\n",
       "                        <td id=\"T_01e3d_row3_col0\" class=\"data row3 col0\" >Light Gradient Boosting Machine</td>\n",
       "                        <td id=\"T_01e3d_row3_col1\" class=\"data row3 col1\" >0.8385</td>\n",
       "                        <td id=\"T_01e3d_row3_col2\" class=\"data row3 col2\" >0.7707</td>\n",
       "                        <td id=\"T_01e3d_row3_col3\" class=\"data row3 col3\" >0.2667</td>\n",
       "                        <td id=\"T_01e3d_row3_col4\" class=\"data row3 col4\" >0.5968</td>\n",
       "                        <td id=\"T_01e3d_row3_col5\" class=\"data row3 col5\" >0.3643</td>\n",
       "                        <td id=\"T_01e3d_row3_col6\" class=\"data row3 col6\" >0.2874</td>\n",
       "                        <td id=\"T_01e3d_row3_col7\" class=\"data row3 col7\" >0.3200</td>\n",
       "                        <td id=\"T_01e3d_row3_col8\" class=\"data row3 col8\" >0.1380</td>\n",
       "            </tr>\n",
       "            <tr>\n",
       "                        <th id=\"T_01e3d_level0_row4\" class=\"row_heading level0 row4\" >mlp</th>\n",
       "                        <td id=\"T_01e3d_row4_col0\" class=\"data row4 col0\" >MLP Classifier</td>\n",
       "                        <td id=\"T_01e3d_row4_col1\" class=\"data row4 col1\" >0.8297</td>\n",
       "                        <td id=\"T_01e3d_row4_col2\" class=\"data row4 col2\" >0.7822</td>\n",
       "                        <td id=\"T_01e3d_row4_col3\" class=\"data row4 col3\" >0.4278</td>\n",
       "                        <td id=\"T_01e3d_row4_col4\" class=\"data row4 col4\" >0.5380</td>\n",
       "                        <td id=\"T_01e3d_row4_col5\" class=\"data row4 col5\" >0.4694</td>\n",
       "                        <td id=\"T_01e3d_row4_col6\" class=\"data row4 col6\" >0.3702</td>\n",
       "                        <td id=\"T_01e3d_row4_col7\" class=\"data row4 col7\" >0.3777</td>\n",
       "                        <td id=\"T_01e3d_row4_col8\" class=\"data row4 col8\" >0.7420</td>\n",
       "            </tr>\n",
       "            <tr>\n",
       "                        <th id=\"T_01e3d_level0_row5\" class=\"row_heading level0 row5\" >ada</th>\n",
       "                        <td id=\"T_01e3d_row5_col0\" class=\"data row5 col0\" >Ada Boost Classifier</td>\n",
       "                        <td id=\"T_01e3d_row5_col1\" class=\"data row5 col1\" >0.8229</td>\n",
       "                        <td id=\"T_01e3d_row5_col2\" class=\"data row5 col2\" >0.7869</td>\n",
       "                        <td id=\"T_01e3d_row5_col3\" class=\"data row5 col3\" >0.4833</td>\n",
       "                        <td id=\"T_01e3d_row5_col4\" class=\"data row5 col4\" >0.4977</td>\n",
       "                        <td id=\"T_01e3d_row5_col5\" class=\"data row5 col5\" >0.4889</td>\n",
       "                        <td id=\"T_01e3d_row5_col6\" class=\"data row5 col6\" >0.3821</td>\n",
       "                        <td id=\"T_01e3d_row5_col7\" class=\"data row5 col7\" >0.3831</td>\n",
       "                        <td id=\"T_01e3d_row5_col8\" class=\"data row5 col8\" >0.1280</td>\n",
       "            </tr>\n",
       "            <tr>\n",
       "                        <th id=\"T_01e3d_level0_row6\" class=\"row_heading level0 row6\" >rbfsvm</th>\n",
       "                        <td id=\"T_01e3d_row6_col0\" class=\"data row6 col0\" >SVM - Radial Kernel</td>\n",
       "                        <td id=\"T_01e3d_row6_col1\" class=\"data row6 col1\" >0.7937</td>\n",
       "                        <td id=\"T_01e3d_row6_col2\" class=\"data row6 col2\" >0.7926</td>\n",
       "                        <td id=\"T_01e3d_row6_col3\" class=\"data row6 col3\" >0.5667</td>\n",
       "                        <td id=\"T_01e3d_row6_col4\" class=\"data row6 col4\" >0.4340</td>\n",
       "                        <td id=\"T_01e3d_row6_col5\" class=\"data row6 col5\" >0.4900</td>\n",
       "                        <td id=\"T_01e3d_row6_col6\" class=\"data row6 col6\" >0.3641</td>\n",
       "                        <td id=\"T_01e3d_row6_col7\" class=\"data row6 col7\" >0.3701</td>\n",
       "                        <td id=\"T_01e3d_row6_col8\" class=\"data row6 col8\" >0.4700</td>\n",
       "            </tr>\n",
       "            <tr>\n",
       "                        <th id=\"T_01e3d_level0_row7\" class=\"row_heading level0 row7\" >lr</th>\n",
       "                        <td id=\"T_01e3d_row7_col0\" class=\"data row7 col0\" >Logistic Regression</td>\n",
       "                        <td id=\"T_01e3d_row7_col1\" class=\"data row7 col1\" >0.7665</td>\n",
       "                        <td id=\"T_01e3d_row7_col2\" class=\"data row7 col2\" >0.7897</td>\n",
       "                        <td id=\"T_01e3d_row7_col3\" class=\"data row7 col3\" >0.6389</td>\n",
       "                        <td id=\"T_01e3d_row7_col4\" class=\"data row7 col4\" >0.4018</td>\n",
       "                        <td id=\"T_01e3d_row7_col5\" class=\"data row7 col5\" >0.4918</td>\n",
       "                        <td id=\"T_01e3d_row7_col6\" class=\"data row7 col6\" >0.3516</td>\n",
       "                        <td id=\"T_01e3d_row7_col7\" class=\"data row7 col7\" >0.3680</td>\n",
       "                        <td id=\"T_01e3d_row7_col8\" class=\"data row7 col8\" >0.0580</td>\n",
       "            </tr>\n",
       "            <tr>\n",
       "                        <th id=\"T_01e3d_level0_row8\" class=\"row_heading level0 row8\" >lda</th>\n",
       "                        <td id=\"T_01e3d_row8_col0\" class=\"data row8 col0\" >Linear Discriminant Analysis</td>\n",
       "                        <td id=\"T_01e3d_row8_col1\" class=\"data row8 col1\" >0.7607</td>\n",
       "                        <td id=\"T_01e3d_row8_col2\" class=\"data row8 col2\" >0.7842</td>\n",
       "                        <td id=\"T_01e3d_row8_col3\" class=\"data row8 col3\" >0.6778</td>\n",
       "                        <td id=\"T_01e3d_row8_col4\" class=\"data row8 col4\" >0.3960</td>\n",
       "                        <td id=\"T_01e3d_row8_col5\" class=\"data row8 col5\" >0.4996</td>\n",
       "                        <td id=\"T_01e3d_row8_col6\" class=\"data row8 col6\" >0.3569</td>\n",
       "                        <td id=\"T_01e3d_row8_col7\" class=\"data row8 col7\" >0.3789</td>\n",
       "                        <td id=\"T_01e3d_row8_col8\" class=\"data row8 col8\" >0.0400</td>\n",
       "            </tr>\n",
       "            <tr>\n",
       "                        <th id=\"T_01e3d_level0_row9\" class=\"row_heading level0 row9\" >ridge</th>\n",
       "                        <td id=\"T_01e3d_row9_col0\" class=\"data row9 col0\" >Ridge Classifier</td>\n",
       "                        <td id=\"T_01e3d_row9_col1\" class=\"data row9 col1\" >0.7597</td>\n",
       "                        <td id=\"T_01e3d_row9_col2\" class=\"data row9 col2\" >0.0000</td>\n",
       "                        <td id=\"T_01e3d_row9_col3\" class=\"data row9 col3\" >0.6833</td>\n",
       "                        <td id=\"T_01e3d_row9_col4\" class=\"data row9 col4\" >0.3956</td>\n",
       "                        <td id=\"T_01e3d_row9_col5\" class=\"data row9 col5\" >0.5007</td>\n",
       "                        <td id=\"T_01e3d_row9_col6\" class=\"data row9 col6\" >0.3577</td>\n",
       "                        <td id=\"T_01e3d_row9_col7\" class=\"data row9 col7\" >0.3806</td>\n",
       "                        <td id=\"T_01e3d_row9_col8\" class=\"data row9 col8\" >0.0220</td>\n",
       "            </tr>\n",
       "            <tr>\n",
       "                        <th id=\"T_01e3d_level0_row10\" class=\"row_heading level0 row10\" >dt</th>\n",
       "                        <td id=\"T_01e3d_row10_col0\" class=\"data row10 col0\" >Decision Tree Classifier</td>\n",
       "                        <td id=\"T_01e3d_row10_col1\" class=\"data row10 col1\" >0.7568</td>\n",
       "                        <td id=\"T_01e3d_row10_col2\" class=\"data row10 col2\" >0.5944</td>\n",
       "                        <td id=\"T_01e3d_row10_col3\" class=\"data row10 col3\" >0.3444</td>\n",
       "                        <td id=\"T_01e3d_row10_col4\" class=\"data row10 col4\" >0.3213</td>\n",
       "                        <td id=\"T_01e3d_row10_col5\" class=\"data row10 col5\" >0.3315</td>\n",
       "                        <td id=\"T_01e3d_row10_col6\" class=\"data row10 col6\" >0.1835</td>\n",
       "                        <td id=\"T_01e3d_row10_col7\" class=\"data row10 col7\" >0.1841</td>\n",
       "                        <td id=\"T_01e3d_row10_col8\" class=\"data row10 col8\" >0.0340</td>\n",
       "            </tr>\n",
       "            <tr>\n",
       "                        <th id=\"T_01e3d_level0_row11\" class=\"row_heading level0 row11\" >svm</th>\n",
       "                        <td id=\"T_01e3d_row11_col0\" class=\"data row11 col0\" >SVM - Linear Kernel</td>\n",
       "                        <td id=\"T_01e3d_row11_col1\" class=\"data row11 col1\" >0.7383</td>\n",
       "                        <td id=\"T_01e3d_row11_col2\" class=\"data row11 col2\" >0.0000</td>\n",
       "                        <td id=\"T_01e3d_row11_col3\" class=\"data row11 col3\" >0.6611</td>\n",
       "                        <td id=\"T_01e3d_row11_col4\" class=\"data row11 col4\" >0.3710</td>\n",
       "                        <td id=\"T_01e3d_row11_col5\" class=\"data row11 col5\" >0.4698</td>\n",
       "                        <td id=\"T_01e3d_row11_col6\" class=\"data row11 col6\" >0.3171</td>\n",
       "                        <td id=\"T_01e3d_row11_col7\" class=\"data row11 col7\" >0.3440</td>\n",
       "                        <td id=\"T_01e3d_row11_col8\" class=\"data row11 col8\" >0.0320</td>\n",
       "            </tr>\n",
       "            <tr>\n",
       "                        <th id=\"T_01e3d_level0_row12\" class=\"row_heading level0 row12\" >nb</th>\n",
       "                        <td id=\"T_01e3d_row12_col0\" class=\"data row12 col0\" >Naive Bayes</td>\n",
       "                        <td id=\"T_01e3d_row12_col1\" class=\"data row12 col1\" >0.5914</td>\n",
       "                        <td id=\"T_01e3d_row12_col2\" class=\"data row12 col2\" >0.7136</td>\n",
       "                        <td id=\"T_01e3d_row12_col3\" class=\"data row12 col3\" >0.6944</td>\n",
       "                        <td id=\"T_01e3d_row12_col4\" class=\"data row12 col4\" >0.2668</td>\n",
       "                        <td id=\"T_01e3d_row12_col5\" class=\"data row12 col5\" >0.3809</td>\n",
       "                        <td id=\"T_01e3d_row12_col6\" class=\"data row12 col6\" >0.1696</td>\n",
       "                        <td id=\"T_01e3d_row12_col7\" class=\"data row12 col7\" >0.2070</td>\n",
       "                        <td id=\"T_01e3d_row12_col8\" class=\"data row12 col8\" >0.0280</td>\n",
       "            </tr>\n",
       "            <tr>\n",
       "                        <th id=\"T_01e3d_level0_row13\" class=\"row_heading level0 row13\" >gpc</th>\n",
       "                        <td id=\"T_01e3d_row13_col0\" class=\"data row13 col0\" >Gaussian Process Classifier</td>\n",
       "                        <td id=\"T_01e3d_row13_col1\" class=\"data row13 col1\" >0.4406</td>\n",
       "                        <td id=\"T_01e3d_row13_col2\" class=\"data row13 col2\" >0.6520</td>\n",
       "                        <td id=\"T_01e3d_row13_col3\" class=\"data row13 col3\" >0.8278</td>\n",
       "                        <td id=\"T_01e3d_row13_col4\" class=\"data row13 col4\" >0.2156</td>\n",
       "                        <td id=\"T_01e3d_row13_col5\" class=\"data row13 col5\" >0.3420</td>\n",
       "                        <td id=\"T_01e3d_row13_col6\" class=\"data row13 col6\" >0.0886</td>\n",
       "                        <td id=\"T_01e3d_row13_col7\" class=\"data row13 col7\" >0.1504</td>\n",
       "                        <td id=\"T_01e3d_row13_col8\" class=\"data row13 col8\" >1.7420</td>\n",
       "            </tr>\n",
       "            <tr>\n",
       "                        <th id=\"T_01e3d_level0_row14\" class=\"row_heading level0 row14\" >knn</th>\n",
       "                        <td id=\"T_01e3d_row14_col0\" class=\"data row14 col0\" >K Neighbors Classifier</td>\n",
       "                        <td id=\"T_01e3d_row14_col1\" class=\"data row14 col1\" >0.4367</td>\n",
       "                        <td id=\"T_01e3d_row14_col2\" class=\"data row14 col2\" >0.6309</td>\n",
       "                        <td id=\"T_01e3d_row14_col3\" class=\"data row14 col3\" >0.8278</td>\n",
       "                        <td id=\"T_01e3d_row14_col4\" class=\"data row14 col4\" >0.2142</td>\n",
       "                        <td id=\"T_01e3d_row14_col5\" class=\"data row14 col5\" >0.3403</td>\n",
       "                        <td id=\"T_01e3d_row14_col6\" class=\"data row14 col6\" >0.0858</td>\n",
       "                        <td id=\"T_01e3d_row14_col7\" class=\"data row14 col7\" >0.1470</td>\n",
       "                        <td id=\"T_01e3d_row14_col8\" class=\"data row14 col8\" >0.0760</td>\n",
       "            </tr>\n",
       "            <tr>\n",
       "                        <th id=\"T_01e3d_level0_row15\" class=\"row_heading level0 row15\" >qda</th>\n",
       "                        <td id=\"T_01e3d_row15_col0\" class=\"data row15 col0\" >Quadratic Discriminant Analysis</td>\n",
       "                        <td id=\"T_01e3d_row15_col1\" class=\"data row15 col1\" >0.1877</td>\n",
       "                        <td id=\"T_01e3d_row15_col2\" class=\"data row15 col2\" >0.5033</td>\n",
       "                        <td id=\"T_01e3d_row15_col3\" class=\"data row15 col3\" >0.9889</td>\n",
       "                        <td id=\"T_01e3d_row15_col4\" class=\"data row15 col4\" >0.1761</td>\n",
       "                        <td id=\"T_01e3d_row15_col5\" class=\"data row15 col5\" >0.2989</td>\n",
       "                        <td id=\"T_01e3d_row15_col6\" class=\"data row15 col6\" >0.0023</td>\n",
       "                        <td id=\"T_01e3d_row15_col7\" class=\"data row15 col7\" >0.0244</td>\n",
       "                        <td id=\"T_01e3d_row15_col8\" class=\"data row15 col8\" >0.0320</td>\n",
       "            </tr>\n",
       "    </tbody></table>"
      ],
      "text/plain": [
       "<pandas.io.formats.style.Styler at 0x7f1324abe970>"
      ]
     },
     "metadata": {},
     "output_type": "display_data"
    },
    {
     "name": "stdout",
     "output_type": "stream",
     "text": [
      "CPU times: user 29.1 s, sys: 39.7 s, total: 1min 8s\n",
      "Wall time: 28 s\n"
     ]
    }
   ],
   "source": [
    "%%time\n",
    "#best_model = compare_models(exclude=[\"xgboost\"])\n",
    "best_model = compare_models(include=[\"lr\",\"knn\",\"nb\",\"dt\",\"svm\",\"rbfsvm\",\"gpc\",\"mlp\",\"ridge\",\"rf\",\"qda\",\"ada\",\"gbc\",\"lda\",\"et\",\"lightgbm\"])"
   ]
  },
  {
   "cell_type": "markdown",
   "metadata": {
    "id": "V2mEKChPhjxC"
   },
   "source": [
    "### Qual métrica utilizar?\n",
    "\n",
    "Mini-curso sobre métricas:https://www.youtube.com/watch?v=7tGaa_ekXf4&t=216s&ab_channel=A3DataConsultoria"
   ]
  },
  {
   "cell_type": "markdown",
   "metadata": {
    "id": "rxHsBR_T9gvU"
   },
   "source": [
    "Métricas Qual utilizar?\n",
    "- VP: modelo diz que a pessoa vai sair e ela sai.\n",
    "- VN: modelo diz que a pessoa não vai sair e ela não sai.\n",
    "- FN: modelo diz que a pessoa não vai sair e ela sai. \n",
    "- FP: modelo diz que a pessoa vai sair e ela não sai.\n",
    "- F1 -> harmoniza recall e precision\n",
    "\n",
    "- Recall ->  quanto mais alto o recall menos FN tenho.\n",
    "- Precision -> quanto mais alto a precision menos FP tenho.\n",
    "- Acurácia -> como meu problema é binário e desbalanceado, não será um modelo bom. Pois, na maior parte dos casos ele informa que todo mundo vai sair."
   ]
  },
  {
   "cell_type": "markdown",
   "metadata": {},
   "source": [
    "<b> create_model: </b> Esta função treina e avalia o desempenho de um determinado modelo usando validação cruzada. "
   ]
  },
  {
   "cell_type": "code",
   "execution_count": 79,
   "metadata": {
    "scrolled": true
   },
   "outputs": [
    {
     "data": {
      "text/html": [
       "<style  type=\"text/css\" >\n",
       "#T_de39c_row5_col0,#T_de39c_row5_col1,#T_de39c_row5_col2,#T_de39c_row5_col3,#T_de39c_row5_col4,#T_de39c_row5_col5,#T_de39c_row5_col6{\n",
       "            background:  yellow;\n",
       "        }</style><table id=\"T_de39c_\" ><thead>    <tr>        <th class=\"blank level0\" ></th>        <th class=\"col_heading level0 col0\" >Accuracy</th>        <th class=\"col_heading level0 col1\" >AUC</th>        <th class=\"col_heading level0 col2\" >Recall</th>        <th class=\"col_heading level0 col3\" >Prec.</th>        <th class=\"col_heading level0 col4\" >F1</th>        <th class=\"col_heading level0 col5\" >Kappa</th>        <th class=\"col_heading level0 col6\" >MCC</th>    </tr></thead><tbody>\n",
       "                <tr>\n",
       "                        <th id=\"T_de39c_level0_row0\" class=\"row_heading level0 row0\" >0</th>\n",
       "                        <td id=\"T_de39c_row0_col0\" class=\"data row0 col0\" >0.7816</td>\n",
       "                        <td id=\"T_de39c_row0_col1\" class=\"data row0 col1\" >0.0000</td>\n",
       "                        <td id=\"T_de39c_row0_col2\" class=\"data row0 col2\" >0.6944</td>\n",
       "                        <td id=\"T_de39c_row0_col3\" class=\"data row0 col3\" >0.4237</td>\n",
       "                        <td id=\"T_de39c_row0_col4\" class=\"data row0 col4\" >0.5263</td>\n",
       "                        <td id=\"T_de39c_row0_col5\" class=\"data row0 col5\" >0.3950</td>\n",
       "                        <td id=\"T_de39c_row0_col6\" class=\"data row0 col6\" >0.4153</td>\n",
       "            </tr>\n",
       "            <tr>\n",
       "                        <th id=\"T_de39c_level0_row1\" class=\"row_heading level0 row1\" >1</th>\n",
       "                        <td id=\"T_de39c_row1_col0\" class=\"data row1 col0\" >0.7427</td>\n",
       "                        <td id=\"T_de39c_row1_col1\" class=\"data row1 col1\" >0.0000</td>\n",
       "                        <td id=\"T_de39c_row1_col2\" class=\"data row1 col2\" >0.6667</td>\n",
       "                        <td id=\"T_de39c_row1_col3\" class=\"data row1 col3\" >0.3692</td>\n",
       "                        <td id=\"T_de39c_row1_col4\" class=\"data row1 col4\" >0.4752</td>\n",
       "                        <td id=\"T_de39c_row1_col5\" class=\"data row1 col5\" >0.3230</td>\n",
       "                        <td id=\"T_de39c_row1_col6\" class=\"data row1 col6\" >0.3477</td>\n",
       "            </tr>\n",
       "            <tr>\n",
       "                        <th id=\"T_de39c_level0_row2\" class=\"row_heading level0 row2\" >2</th>\n",
       "                        <td id=\"T_de39c_row2_col0\" class=\"data row2 col0\" >0.7913</td>\n",
       "                        <td id=\"T_de39c_row2_col1\" class=\"data row2 col1\" >0.0000</td>\n",
       "                        <td id=\"T_de39c_row2_col2\" class=\"data row2 col2\" >0.7500</td>\n",
       "                        <td id=\"T_de39c_row2_col3\" class=\"data row2 col3\" >0.4426</td>\n",
       "                        <td id=\"T_de39c_row2_col4\" class=\"data row2 col4\" >0.5567</td>\n",
       "                        <td id=\"T_de39c_row2_col5\" class=\"data row2 col5\" >0.4318</td>\n",
       "                        <td id=\"T_de39c_row2_col6\" class=\"data row2 col6\" >0.4575</td>\n",
       "            </tr>\n",
       "            <tr>\n",
       "                        <th id=\"T_de39c_level0_row3\" class=\"row_heading level0 row3\" >3</th>\n",
       "                        <td id=\"T_de39c_row3_col0\" class=\"data row3 col0\" >0.7805</td>\n",
       "                        <td id=\"T_de39c_row3_col1\" class=\"data row3 col1\" >0.0000</td>\n",
       "                        <td id=\"T_de39c_row3_col2\" class=\"data row3 col2\" >0.6944</td>\n",
       "                        <td id=\"T_de39c_row3_col3\" class=\"data row3 col3\" >0.4237</td>\n",
       "                        <td id=\"T_de39c_row3_col4\" class=\"data row3 col4\" >0.5263</td>\n",
       "                        <td id=\"T_de39c_row3_col5\" class=\"data row3 col5\" >0.3942</td>\n",
       "                        <td id=\"T_de39c_row3_col6\" class=\"data row3 col6\" >0.4145</td>\n",
       "            </tr>\n",
       "            <tr>\n",
       "                        <th id=\"T_de39c_level0_row4\" class=\"row_heading level0 row4\" >4</th>\n",
       "                        <td id=\"T_de39c_row4_col0\" class=\"data row4 col0\" >0.7024</td>\n",
       "                        <td id=\"T_de39c_row4_col1\" class=\"data row4 col1\" >0.0000</td>\n",
       "                        <td id=\"T_de39c_row4_col2\" class=\"data row4 col2\" >0.6111</td>\n",
       "                        <td id=\"T_de39c_row4_col3\" class=\"data row4 col3\" >0.3188</td>\n",
       "                        <td id=\"T_de39c_row4_col4\" class=\"data row4 col4\" >0.4190</td>\n",
       "                        <td id=\"T_de39c_row4_col5\" class=\"data row4 col5\" >0.2447</td>\n",
       "                        <td id=\"T_de39c_row4_col6\" class=\"data row4 col6\" >0.2681</td>\n",
       "            </tr>\n",
       "            <tr>\n",
       "                        <th id=\"T_de39c_level0_row5\" class=\"row_heading level0 row5\" >Mean</th>\n",
       "                        <td id=\"T_de39c_row5_col0\" class=\"data row5 col0\" >0.7597</td>\n",
       "                        <td id=\"T_de39c_row5_col1\" class=\"data row5 col1\" >0.0000</td>\n",
       "                        <td id=\"T_de39c_row5_col2\" class=\"data row5 col2\" >0.6833</td>\n",
       "                        <td id=\"T_de39c_row5_col3\" class=\"data row5 col3\" >0.3956</td>\n",
       "                        <td id=\"T_de39c_row5_col4\" class=\"data row5 col4\" >0.5007</td>\n",
       "                        <td id=\"T_de39c_row5_col5\" class=\"data row5 col5\" >0.3577</td>\n",
       "                        <td id=\"T_de39c_row5_col6\" class=\"data row5 col6\" >0.3806</td>\n",
       "            </tr>\n",
       "            <tr>\n",
       "                        <th id=\"T_de39c_level0_row6\" class=\"row_heading level0 row6\" >SD</th>\n",
       "                        <td id=\"T_de39c_row6_col0\" class=\"data row6 col0\" >0.0331</td>\n",
       "                        <td id=\"T_de39c_row6_col1\" class=\"data row6 col1\" >0.0000</td>\n",
       "                        <td id=\"T_de39c_row6_col2\" class=\"data row6 col2\" >0.0451</td>\n",
       "                        <td id=\"T_de39c_row6_col3\" class=\"data row6 col3\" >0.0456</td>\n",
       "                        <td id=\"T_de39c_row6_col4\" class=\"data row6 col4\" >0.0485</td>\n",
       "                        <td id=\"T_de39c_row6_col5\" class=\"data row6 col5\" >0.0666</td>\n",
       "                        <td id=\"T_de39c_row6_col6\" class=\"data row6 col6\" >0.0663</td>\n",
       "            </tr>\n",
       "    </tbody></table>"
      ],
      "text/plain": [
       "<pandas.io.formats.style.Styler at 0x7f1323a51c70>"
      ]
     },
     "metadata": {},
     "output_type": "display_data"
    }
   ],
   "source": [
    "model = create_model('ridge')"
   ]
  },
  {
   "cell_type": "code",
   "execution_count": 80,
   "metadata": {},
   "outputs": [
    {
     "name": "stdout",
     "output_type": "stream",
     "text": [
      "RidgeClassifier(alpha=1.0, class_weight=None, copy_X=True, fit_intercept=True,\n",
      "                max_iter=None, normalize=False, random_state=123, solver='auto',\n",
      "                tol=0.001)\n"
     ]
    }
   ],
   "source": [
    "print(model)"
   ]
  },
  {
   "cell_type": "markdown",
   "metadata": {},
   "source": [
    "<b> tune_model:</b> Essa função ajusta os hiperparâmetros de um determinado modelo. "
   ]
  },
  {
   "cell_type": "code",
   "execution_count": 81,
   "metadata": {
    "scrolled": true
   },
   "outputs": [
    {
     "data": {
      "text/html": [
       "<style  type=\"text/css\" >\n",
       "#T_100a7_row5_col0,#T_100a7_row5_col1,#T_100a7_row5_col2,#T_100a7_row5_col3,#T_100a7_row5_col4,#T_100a7_row5_col5,#T_100a7_row5_col6{\n",
       "            background:  yellow;\n",
       "        }</style><table id=\"T_100a7_\" ><thead>    <tr>        <th class=\"blank level0\" ></th>        <th class=\"col_heading level0 col0\" >Accuracy</th>        <th class=\"col_heading level0 col1\" >AUC</th>        <th class=\"col_heading level0 col2\" >Recall</th>        <th class=\"col_heading level0 col3\" >Prec.</th>        <th class=\"col_heading level0 col4\" >F1</th>        <th class=\"col_heading level0 col5\" >Kappa</th>        <th class=\"col_heading level0 col6\" >MCC</th>    </tr></thead><tbody>\n",
       "                <tr>\n",
       "                        <th id=\"T_100a7_level0_row0\" class=\"row_heading level0 row0\" >0</th>\n",
       "                        <td id=\"T_100a7_row0_col0\" class=\"data row0 col0\" >0.7913</td>\n",
       "                        <td id=\"T_100a7_row0_col1\" class=\"data row0 col1\" >0.0000</td>\n",
       "                        <td id=\"T_100a7_row0_col2\" class=\"data row0 col2\" >0.7222</td>\n",
       "                        <td id=\"T_100a7_row0_col3\" class=\"data row0 col3\" >0.4407</td>\n",
       "                        <td id=\"T_100a7_row0_col4\" class=\"data row0 col4\" >0.5474</td>\n",
       "                        <td id=\"T_100a7_row0_col5\" class=\"data row0 col5\" >0.4219</td>\n",
       "                        <td id=\"T_100a7_row0_col6\" class=\"data row0 col6\" >0.4436</td>\n",
       "            </tr>\n",
       "            <tr>\n",
       "                        <th id=\"T_100a7_level0_row1\" class=\"row_heading level0 row1\" >1</th>\n",
       "                        <td id=\"T_100a7_row1_col0\" class=\"data row1 col0\" >0.7524</td>\n",
       "                        <td id=\"T_100a7_row1_col1\" class=\"data row1 col1\" >0.0000</td>\n",
       "                        <td id=\"T_100a7_row1_col2\" class=\"data row1 col2\" >0.6667</td>\n",
       "                        <td id=\"T_100a7_row1_col3\" class=\"data row1 col3\" >0.3810</td>\n",
       "                        <td id=\"T_100a7_row1_col4\" class=\"data row1 col4\" >0.4848</td>\n",
       "                        <td id=\"T_100a7_row1_col5\" class=\"data row1 col5\" >0.3375</td>\n",
       "                        <td id=\"T_100a7_row1_col6\" class=\"data row1 col6\" >0.3604</td>\n",
       "            </tr>\n",
       "            <tr>\n",
       "                        <th id=\"T_100a7_level0_row2\" class=\"row_heading level0 row2\" >2</th>\n",
       "                        <td id=\"T_100a7_row2_col0\" class=\"data row2 col0\" >0.7961</td>\n",
       "                        <td id=\"T_100a7_row2_col1\" class=\"data row2 col1\" >0.0000</td>\n",
       "                        <td id=\"T_100a7_row2_col2\" class=\"data row2 col2\" >0.7500</td>\n",
       "                        <td id=\"T_100a7_row2_col3\" class=\"data row2 col3\" >0.4500</td>\n",
       "                        <td id=\"T_100a7_row2_col4\" class=\"data row2 col4\" >0.5625</td>\n",
       "                        <td id=\"T_100a7_row2_col5\" class=\"data row2 col5\" >0.4402</td>\n",
       "                        <td id=\"T_100a7_row2_col6\" class=\"data row2 col6\" >0.4646</td>\n",
       "            </tr>\n",
       "            <tr>\n",
       "                        <th id=\"T_100a7_level0_row3\" class=\"row_heading level0 row3\" >3</th>\n",
       "                        <td id=\"T_100a7_row3_col0\" class=\"data row3 col0\" >0.7805</td>\n",
       "                        <td id=\"T_100a7_row3_col1\" class=\"data row3 col1\" >0.0000</td>\n",
       "                        <td id=\"T_100a7_row3_col2\" class=\"data row3 col2\" >0.6667</td>\n",
       "                        <td id=\"T_100a7_row3_col3\" class=\"data row3 col3\" >0.4211</td>\n",
       "                        <td id=\"T_100a7_row3_col4\" class=\"data row3 col4\" >0.5161</td>\n",
       "                        <td id=\"T_100a7_row3_col5\" class=\"data row3 col5\" >0.3834</td>\n",
       "                        <td id=\"T_100a7_row3_col6\" class=\"data row3 col6\" >0.4003</td>\n",
       "            </tr>\n",
       "            <tr>\n",
       "                        <th id=\"T_100a7_level0_row4\" class=\"row_heading level0 row4\" >4</th>\n",
       "                        <td id=\"T_100a7_row4_col0\" class=\"data row4 col0\" >0.7171</td>\n",
       "                        <td id=\"T_100a7_row4_col1\" class=\"data row4 col1\" >0.0000</td>\n",
       "                        <td id=\"T_100a7_row4_col2\" class=\"data row4 col2\" >0.6111</td>\n",
       "                        <td id=\"T_100a7_row4_col3\" class=\"data row4 col3\" >0.3333</td>\n",
       "                        <td id=\"T_100a7_row4_col4\" class=\"data row4 col4\" >0.4314</td>\n",
       "                        <td id=\"T_100a7_row4_col5\" class=\"data row4 col5\" >0.2641</td>\n",
       "                        <td id=\"T_100a7_row4_col6\" class=\"data row4 col6\" >0.2856</td>\n",
       "            </tr>\n",
       "            <tr>\n",
       "                        <th id=\"T_100a7_level0_row5\" class=\"row_heading level0 row5\" >Mean</th>\n",
       "                        <td id=\"T_100a7_row5_col0\" class=\"data row5 col0\" >0.7675</td>\n",
       "                        <td id=\"T_100a7_row5_col1\" class=\"data row5 col1\" >0.0000</td>\n",
       "                        <td id=\"T_100a7_row5_col2\" class=\"data row5 col2\" >0.6833</td>\n",
       "                        <td id=\"T_100a7_row5_col3\" class=\"data row5 col3\" >0.4052</td>\n",
       "                        <td id=\"T_100a7_row5_col4\" class=\"data row5 col4\" >0.5084</td>\n",
       "                        <td id=\"T_100a7_row5_col5\" class=\"data row5 col5\" >0.3694</td>\n",
       "                        <td id=\"T_100a7_row5_col6\" class=\"data row5 col6\" >0.3909</td>\n",
       "            </tr>\n",
       "            <tr>\n",
       "                        <th id=\"T_100a7_level0_row6\" class=\"row_heading level0 row6\" >SD</th>\n",
       "                        <td id=\"T_100a7_row6_col0\" class=\"data row6 col0\" >0.0294</td>\n",
       "                        <td id=\"T_100a7_row6_col1\" class=\"data row6 col1\" >0.0000</td>\n",
       "                        <td id=\"T_100a7_row6_col2\" class=\"data row6 col2\" >0.0484</td>\n",
       "                        <td id=\"T_100a7_row6_col3\" class=\"data row6 col3\" >0.0431</td>\n",
       "                        <td id=\"T_100a7_row6_col4\" class=\"data row6 col4\" >0.0469</td>\n",
       "                        <td id=\"T_100a7_row6_col5\" class=\"data row6 col5\" >0.0633</td>\n",
       "                        <td id=\"T_100a7_row6_col6\" class=\"data row6 col6\" >0.0637</td>\n",
       "            </tr>\n",
       "    </tbody></table>"
      ],
      "text/plain": [
       "<pandas.io.formats.style.Styler at 0x7f1323a39b80>"
      ]
     },
     "metadata": {},
     "output_type": "display_data"
    }
   ],
   "source": [
    "tuned_model = tune_model(model)"
   ]
  },
  {
   "cell_type": "markdown",
   "metadata": {},
   "source": [
    "### Avaliar o modelo"
   ]
  },
  {
   "cell_type": "markdown",
   "metadata": {},
   "source": [
    "<b>plot_model:</b> Esta função analisa o desempenho de um modelo treinado no conjunto de validação}"
   ]
  },
  {
   "cell_type": "code",
   "execution_count": 82,
   "metadata": {},
   "outputs": [
    {
     "data": {
      "image/png": "[encoded data removed]",
      "text/plain": [
       "<Figure size 576x396 with 1 Axes>"
      ]
     },
     "metadata": {},
     "output_type": "display_data"
    }
   ],
   "source": [
    "plot_model(tuned_model, plot = 'confusion_matrix')"
   ]
  },
  {
   "cell_type": "code",
   "execution_count": 83,
   "metadata": {},
   "outputs": [
    {
     "data": {
      "image/png": "[encoded data removed]",
      "text/plain": [
       "<Figure size 576x396 with 1 Axes>"
      ]
     },
     "metadata": {},
     "output_type": "display_data"
    }
   ],
   "source": [
    "plot_model(tuned_model, plot = 'error')"
   ]
  },
  {
   "cell_type": "code",
   "execution_count": 84,
   "metadata": {},
   "outputs": [
    {
     "data": {
      "image/png": "[encoded data removed]",
      "text/plain": [
       "<Figure size 800x500 with 1 Axes>"
      ]
     },
     "metadata": {},
     "output_type": "display_data"
    }
   ],
   "source": [
    "plot_model(tuned_model, plot = 'feature')"
   ]
  },
  {
   "cell_type": "code",
   "execution_count": 86,
   "metadata": {},
   "outputs": [
    {
     "data": {
      "text/html": [
       "<div>\n",
       "<style scoped>\n",
       "    .dataframe tbody tr th:only-of-type {\n",
       "        vertical-align: middle;\n",
       "    }\n",
       "\n",
       "    .dataframe tbody tr th {\n",
       "        vertical-align: top;\n",
       "    }\n",
       "\n",
       "    .dataframe thead th {\n",
       "        text-align: right;\n",
       "    }\n",
       "</style>\n",
       "<table border=\"1\" class=\"dataframe\">\n",
       "  <thead>\n",
       "    <tr style=\"text-align: right;\">\n",
       "      <th></th>\n",
       "      <th>Parameters</th>\n",
       "    </tr>\n",
       "  </thead>\n",
       "  <tbody>\n",
       "    <tr>\n",
       "      <th>alpha</th>\n",
       "      <td>8.96</td>\n",
       "    </tr>\n",
       "    <tr>\n",
       "      <th>class_weight</th>\n",
       "      <td>None</td>\n",
       "    </tr>\n",
       "    <tr>\n",
       "      <th>copy_X</th>\n",
       "      <td>True</td>\n",
       "    </tr>\n",
       "    <tr>\n",
       "      <th>fit_intercept</th>\n",
       "      <td>False</td>\n",
       "    </tr>\n",
       "    <tr>\n",
       "      <th>max_iter</th>\n",
       "      <td>None</td>\n",
       "    </tr>\n",
       "    <tr>\n",
       "      <th>normalize</th>\n",
       "      <td>True</td>\n",
       "    </tr>\n",
       "    <tr>\n",
       "      <th>random_state</th>\n",
       "      <td>123</td>\n",
       "    </tr>\n",
       "    <tr>\n",
       "      <th>solver</th>\n",
       "      <td>auto</td>\n",
       "    </tr>\n",
       "    <tr>\n",
       "      <th>tol</th>\n",
       "      <td>0.001</td>\n",
       "    </tr>\n",
       "  </tbody>\n",
       "</table>\n",
       "</div>"
      ],
      "text/plain": [
       "              Parameters\n",
       "alpha               8.96\n",
       "class_weight        None\n",
       "copy_X              True\n",
       "fit_intercept      False\n",
       "max_iter            None\n",
       "normalize           True\n",
       "random_state         123\n",
       "solver              auto\n",
       "tol                0.001"
      ]
     },
     "metadata": {},
     "output_type": "display_data"
    }
   ],
   "source": [
    "plot_model(tuned_model, plot = 'parameter')"
   ]
  },
  {
   "cell_type": "markdown",
   "metadata": {},
   "source": [
    "<b>evaluate_model</b>: Esta função exibe uma interface de usuário para analisar o desempenho de um treinado"
   ]
  },
  {
   "cell_type": "code",
   "execution_count": 41,
   "metadata": {},
   "outputs": [
    {
     "data": {
      "application/vnd.jupyter.widget-view+json": {
       "model_id": "ab91053e70c14de7a4f05f641135c1bd",
       "version_major": 2,
       "version_minor": 0
      },
      "text/plain": [
       "interactive(children=(ToggleButtons(description='Plot Type:', icons=('',), options=(('Hyperparameters', 'param…"
      ]
     },
     "metadata": {},
     "output_type": "display_data"
    }
   ],
   "source": [
    "evaluate_model(tuned_model)"
   ]
  },
  {
   "cell_type": "markdown",
   "metadata": {},
   "source": [
    "### Salvar modelo"
   ]
  },
  {
   "cell_type": "markdown",
   "metadata": {},
   "source": [
    "<b> save_model: </b> Esta função salva o pipeline de transformação e o objeto de modelo treinado no diretório de trabalho atual como um arquivo pickle para uso posterior."
   ]
  },
  {
   "cell_type": "code",
   "execution_count": 43,
   "metadata": {
    "scrolled": false
   },
   "outputs": [
    {
     "name": "stdout",
     "output_type": "stream",
     "text": [
      "Transformation Pipeline and Model Succesfully Saved\n"
     ]
    },
    {
     "data": {
      "text/plain": [
       "(Pipeline(memory=None,\n",
       "          steps=[('dtypes',\n",
       "                  DataTypes_Auto_infer(categorical_features=[],\n",
       "                                       display_types=True, features_todrop=[],\n",
       "                                       id_columns=[],\n",
       "                                       ml_usecase='classification',\n",
       "                                       numerical_features=[], target='Attrition',\n",
       "                                       time_features=[])),\n",
       "                 ('imputer',\n",
       "                  Simple_Imputer(categorical_strategy='not_available',\n",
       "                                 fill_value_categorical=None,\n",
       "                                 fill_value_numerical=None,\n",
       "                                 numeric_st...\n",
       "                 ('dummy', Dummify(target='Attrition')),\n",
       "                 ('fix_perfect', Remove_100(target='Attrition')),\n",
       "                 ('clean_names', Clean_Colum_Names()),\n",
       "                 ('feature_select', 'passthrough'), ('fix_multi', 'passthrough'),\n",
       "                 ('dfs', 'passthrough'), ('pca', 'passthrough'),\n",
       "                 ['trained_model',\n",
       "                  AdaBoostClassifier(algorithm='SAMME', base_estimator=None,\n",
       "                                     learning_rate=0.4, n_estimators=230,\n",
       "                                     random_state=123)]],\n",
       "          verbose=False),\n",
       " '../output/model.pkl')"
      ]
     },
     "execution_count": 43,
     "metadata": {},
     "output_type": "execute_result"
    }
   ],
   "source": [
    "save_model(tuned_model,'../output/model')"
   ]
  },
  {
   "cell_type": "markdown",
   "metadata": {},
   "source": [
    "# Próximos passos CD's\n",
    "\n",
    "\n",
    "- Meu modelo está bom?\n",
    "- Faz sentido para a área de negócio?\n",
    "- Validar com a área de negócio\n",
    "- Apresentação do modelo para área de negócio (sem \"tecniquês\")\n",
    "- Apresentação da análise\n",
    "- Construção do storytelling\n",
    "- Colocar o Modelo em produção"
   ]
  },
  {
   "cell_type": "markdown",
   "metadata": {},
   "source": [
    "# Dicas:"
   ]
  },
  {
   "cell_type": "markdown",
   "metadata": {},
   "source": [
    "Outras bibliotecas que facilitam o processo de treinamento:\n",
    "\n",
    "- AutoGluon: https://github.com/awslabs/autogluon\n",
    "- Mljar: https://github.com/mljar\n",
    "- TPOT: https://github.com/EpistasisLab/tpot\n",
    "\n",
    "Para facilitar a organização e deploy:\n",
    "\n",
    "- Hermione: https://github.com/A3Data/hermione\n"
   ]
  }
 ],
 "metadata": {
  "accelerator": "GPU",
  "colab": {
   "collapsed_sections": [
    "YWUAzo5FJRpr"
   ],
   "name": "Análise RH.ipynb",
   "provenance": []
  },
  "kernelspec": {
   "display_name": "Python 3",
   "language": "python",
   "name": "python3"
  },
  "language_info": {
   "codemirror_mode": {
    "name": "ipython",
    "version": 3
   },
   "file_extension": ".py",
   "mimetype": "text/x-python",
   "name": "python",
   "nbconvert_exporter": "python",
   "pygments_lexer": "ipython3",
   "version": "3.8.5"
  }
 },
 "nbformat": 4,
 "nbformat_minor": 1
}
